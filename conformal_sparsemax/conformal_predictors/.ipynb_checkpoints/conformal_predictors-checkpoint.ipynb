{
 "cells": [
  {
   "cell_type": "code",
   "execution_count": 722,
   "id": "2ed947a9-e1e8-4e26-9785-b65de02a08f8",
   "metadata": {},
   "outputs": [],
   "source": [
    "import numpy as np\n",
    "import matplotlib.pyplot as plt\n",
    "from scipy.special import softmax\n",
    "import pickle\n",
    "import pandas as pd"
   ]
  },
  {
   "cell_type": "code",
   "execution_count": 770,
   "id": "c33ae723-0e73-4007-ab27-064d3e257d40",
   "metadata": {},
   "outputs": [],
   "source": [
    "# Fake data - expected format!\n",
    "#n_cal = 1000\n",
    "#n_classes = 100\n",
    "#n_test = 500\n",
    "#pred_cal = softmax(np.random.rand(n_cal,n_classes), axis = 1)\n",
    "#pred_test = softmax(np.random.rand(n_test,n_classes), axis = 1)\n",
    "#true_cal = np.eye(n_classes)[np.random.choice(n_classes, n_cal)]\n",
    "#true_test = np.eye(n_classes)[np.random.choice(n_classes, n_test)]"
   ]
  },
  {
   "cell_type": "code",
   "execution_count": 802,
   "id": "2add2ce1-99af-4431-8463-66ffce56d2e6",
   "metadata": {},
   "outputs": [],
   "source": [
    "#with open('../../predictions/CIFAR10_cal_NLLLoss_sparsemax_proba.pickle', 'rb') as f:\n",
    "#    pred_cal_1 = pickle.load(f)\n",
    "#with open('../../predictions/CIFAR10_test_NLLLoss_sparsemax_proba.pickle', 'rb') as f:\n",
    "#    pred_test_1 = pickle.load(f)\n",
    "#with open('../../predictions/CIFAR10_cal_true.pickle', 'rb') as f:\n",
    "#    true_cal = pickle.load(f)\n",
    "#with open('../../predictions/CIFAR10_test_true.pickle', 'rb') as f:\n",
    "#    true_test = pickle.load(f)"
   ]
  },
  {
   "cell_type": "code",
   "execution_count": 818,
   "id": "0d7d376b-42ae-4f9d-bc98-d02641011429",
   "metadata": {},
   "outputs": [],
   "source": [
    "pred_label_test = np.argmax(pred_test, axis = 1)\n",
    "true_label_test = np.argmax(true_test, axis = 1)\n",
    "pred_max_test = np.max(pred_test,axis = 1)\n",
    "test_results = pd.DataFrame({'true_label': true_label_test,\n",
    "                             'pred_label': pred_label_test,\n",
    "                             'prob': pred_max_test})\n",
    "test_results['match'] = test_results.true_label==test_results.pred_label\n",
    "test_results['std_prob'] = (test_results.prob - test_results.prob.mean())/test_results.prob.std()\n",
    "#test_results['prob_bin'] = pd.qcut(test_results['prob'], q=4, labels=False,duplicates='drop')\n",
    "#test_results.groupby('prob_bin')[['match','prob']].agg({'prob': 'max','match': 'mean'})"
   ]
  },
  {
   "cell_type": "code",
   "execution_count": 834,
   "id": "6ca1405c-fec7-48d7-8a76-e4dc925d6a8a",
   "metadata": {},
   "outputs": [],
   "source": [
    "# Get non-conformity scores\n",
    "alpha = 0.1\n",
    "pred_cal_path = '../../predictions/CIFAR10_cal_NLLLoss_softmax_proba.pickle'\n",
    "pred_test_path = '../../predictions/CIFAR10_test_NLLLoss_softmax_proba.pickle'\n",
    "true_cal_path = '../../predictions/CIFAR10_cal_true.pickle'\n",
    "true_test_path = '../../predictions/CIFAR10_test_true.pickle'\n",
    "\n",
    "def get_data(pred_cal_path, pred_test_path,true_cal_path, true_test_path):\n",
    "    with open(pred_cal_path, 'rb') as f:\n",
    "        pred_cal = pickle.load(f)\n",
    "    with open(pred_test_path, 'rb') as f:\n",
    "        pred_test = pickle.load(f)\n",
    "    with open(true_cal_path, 'rb') as f:\n",
    "        true_cal = pickle.load(f)\n",
    "    with open(true_test_path, 'rb') as f:\n",
    "        true_test = pickle.load(f)\n",
    "    return pred_cal, pred_test, true_cal, true_test\n",
    "    \n",
    "def run_cp(pred_cal, pred_test, true_cal, true_test, alpha, plots = False):\n",
    "    def get_pvalue(preds):\n",
    "            return np.array([((cal_scores>= el).sum() + 1)/(len(cal_scores) + 1) for el in preds])\n",
    "    \n",
    "    #def cp_classifier(pred_cal, true_cal, pred_test, true_test, method='naive',alpha=0.1):\n",
    "    n_cal, n_classes = pred_cal.shape \n",
    "    n_test = true_test.shape[0]\n",
    "    #print(f'{n_cal} calibration points')\n",
    "    #print(f'{n_test} test points')\n",
    "    #print(f'{n_classes} classes')\n",
    "    \n",
    "    # Get calibration quantile\n",
    "    true_mask = true_cal.astype(bool)\n",
    "    cal_scores = 1 - pred_cal[true_mask]\n",
    "    #cal_scores = ((1 - pred_cal[true_mask])/(n_classes-pred_cal.astype(bool).sum(axis=1).reshape((n_cal,1)).T)).T\n",
    "    q_level = np.ceil((n_cal+1)*(1-alpha))/n_cal\n",
    "    qhat = np.quantile(cal_scores, q_level, method = 'higher') # check quantile method\n",
    "    \n",
    "    # test predictions\n",
    "    test_scores = 1 - pred_test\n",
    "    #alternative\n",
    "    #test_scores = ((1 - pred_test)/(n_classes-pred_test.astype(bool).sum(axis=1).reshape((n_test,1))))\n",
    "    test_match = test_scores<= qhat\n",
    "    # get p-values \n",
    "    test_pvalues = np.apply_along_axis(get_pvalue,1,test_scores)\n",
    "    p_values_cal = get_pvalue(cal_scores)\n",
    "    \n",
    "    # Set size and scores distribution\n",
    "    set_size = test_match.sum(axis = 1)\n",
    "    if plots:   \n",
    "        fig, axs = plt.subplots(1,2,figsize=(12,6))\n",
    "        axs[0].hist(set_size)\n",
    "        axs[0].vlines(set_size.mean(),0,max(np.histogram(set_size, bins=10)[0])+10, color='black')\n",
    "        axs[0].text(set_size.mean()*1.02,max(np.histogram(set_size, bins=10)[0]-10)*0.95,  f'S = {set_size.mean()}', color='black',fontweight='bold')\n",
    "        axs[0].set_title('Set Size Distribution')\n",
    "        \n",
    "        axs[1].hist(cal_scores)\n",
    "        axs[1].vlines(qhat,0,max(np.histogram(cal_scores, bins=10)[0])+10, color='black')\n",
    "        axs[1].text(qhat*1.02,max(np.histogram(cal_scores, bins=10)[0]-10)*0.95, f'q={qhat:.3f}', color='black',fontweight='bold')\n",
    "        axs[1].set_title('Non-Conf Scores Distribution')\n",
    "        plt.show()\n",
    "    \n",
    "    coverage = test_match[true_test.astype(bool)].sum()/n_test\n",
    "    print(f'Coverage:{coverage}')\n",
    "    class_coverage = (test_match & true_test).sum(axis = 0)/true_test.sum(axis=0)\n",
    "    \n",
    "    set_size = test_match.sum(axis = 1)\n",
    "    print(f'Avg set size:{set_size.mean()}')\n",
    "    class_size = true_test.copy()\n",
    "    class_size[class_size==1]=test_match.sum(axis = 1)\n",
    "    class_size = class_size.sum(axis=0)/true_test.sum(axis=0)\n",
    "\n",
    "    if plots:\n",
    "    # Class-wise metrics\n",
    "        fig, axs = plt.subplots(1,2,figsize=(12,6))\n",
    "        # add labels?\n",
    "        axs[0].bar(np.arange(n_classes),class_coverage)\n",
    "        axs[0].hlines(coverage,0,n_classes-1, color='black')\n",
    "        axs[0].hlines(1-alpha,0,n_classes-1, color='green')\n",
    "        axs[0].text(0,coverage, f'Emp. cov. = {coverage:.2f}', color='black',fontweight='bold')\n",
    "        axs[0].text(0,1-alpha, f'Theo. cov. = {1-alpha:.2f}', color='green',fontweight='bold')\n",
    "        axs[0].set_title('Class Conditional Coverage')\n",
    "        \n",
    "        \n",
    "        axs[1].bar(np.arange(n_classes),class_size)\n",
    "        axs[1].hlines(set_size.mean(),0,100, color='black')\n",
    "        axs[1].text(0,set_size.mean(), f'S={set_size.mean():.3f}', color='black',fontweight='bold')\n",
    "        axs[1].set_title('Class Avg Set size')\n",
    "        \n",
    "        plt.show()\n",
    "    \n",
    "    # Observed fuzziness\n",
    "    of = np.ma.array(test_pvalues, mask = true_test).mean(axis=1).data.mean()\n",
    "    print(f'OF={of:.4f}')\n",
    "    return test_match"
   ]
  },
  {
   "cell_type": "code",
   "execution_count": null,
   "id": "88ee0f05-cf2f-46a2-a681-90a288722501",
   "metadata": {},
   "outputs": [],
   "source": [
    "alpha = 0.1\n",
    "pred_cal_path = '../../predictions/CIFAR10_cal_FYLoss_sparsemax_proba.pickle'\n",
    "pred_test_path = '../../predictions/CIFAR10_test_FYLoss_sparsemax_proba.pickle'\n",
    "true_cal_path = '../../predictions/CIFAR10_cal_true.pickle'\n",
    "true_test_path = '../../predictions/CIFAR10_test_true.pickle'\n",
    "\n",
    "pred_cal, pred_test, true_cal, true_test = get_data(pred_cal_path, pred_test_path,true_cal_path, true_test_path)\n",
    "def run_cp(pred_cal, pred_test, true_cal, true_test, alpha, plots = False):"
   ]
  },
  {
   "cell_type": "code",
   "execution_count": 837,
   "id": "0dc713ff-938d-471d-bb33-23b04c2abebd",
   "metadata": {},
   "outputs": [
    {
     "name": "stdout",
     "output_type": "stream",
     "text": [
      "MNIST-NLLLoss-softmax-0.1\n",
      "Coverage:0.9117\n",
      "Avg set size:0.9122\n",
      "OF=0.0008\n",
      "MNIST-NLLLoss-softmax-0.05\n",
      "Coverage:0.9566\n",
      "Avg set size:0.9581\n",
      "OF=0.0008\n",
      "MNIST-NLLLoss-softmax-0.01\n",
      "Coverage:0.992\n",
      "Avg set size:1.0119\n",
      "OF=0.0008\n",
      "MNIST-NLLLoss-sparsemax-0.1\n",
      "Coverage:0.9853\n",
      "Avg set size:0.9953\n",
      "OF=0.0134\n",
      "MNIST-NLLLoss-sparsemax-0.05\n",
      "Coverage:0.9853\n",
      "Avg set size:0.9953\n",
      "OF=0.0134\n",
      "MNIST-NLLLoss-sparsemax-0.01\n",
      "Coverage:1.0\n",
      "Avg set size:10.0\n",
      "OF=0.0134\n",
      "MNIST-FYLoss-softmax-0.1\n",
      "Coverage:0.9077\n",
      "Avg set size:0.9091\n",
      "OF=0.0006\n",
      "MNIST-FYLoss-softmax-0.05\n",
      "Coverage:0.9497\n",
      "Avg set size:0.9533\n",
      "OF=0.0006\n",
      "MNIST-FYLoss-softmax-0.01\n",
      "Coverage:0.9933\n",
      "Avg set size:1.0293\n",
      "OF=0.0006\n",
      "MNIST-FYLoss-sparsemax-0.1\n",
      "Coverage:0.9435\n",
      "Avg set size:0.9448\n",
      "OF=0.0052\n",
      "MNIST-FYLoss-sparsemax-0.05\n",
      "Coverage:0.9493\n",
      "Avg set size:0.9511\n",
      "OF=0.0052\n",
      "MNIST-FYLoss-sparsemax-0.01\n",
      "Coverage:0.9937\n",
      "Avg set size:1.0213\n",
      "OF=0.0052\n",
      "CIFAR10-NLLLoss-softmax-0.1\n",
      "Coverage:0.9046\n",
      "Avg set size:1.1345\n",
      "OF=0.0129\n",
      "CIFAR10-NLLLoss-softmax-0.05\n",
      "Coverage:0.9546\n",
      "Avg set size:1.5146\n",
      "OF=0.0129\n",
      "CIFAR10-NLLLoss-softmax-0.01\n",
      "Coverage:0.9927\n",
      "Avg set size:3.1454\n",
      "OF=0.0129\n",
      "CIFAR10-NLLLoss-sparsemax-0.1\n",
      "Coverage:1.0\n",
      "Avg set size:10.0\n",
      "OF=0.1257\n",
      "CIFAR10-NLLLoss-sparsemax-0.05\n",
      "Coverage:1.0\n",
      "Avg set size:10.0\n",
      "OF=0.1257\n",
      "CIFAR10-NLLLoss-sparsemax-0.01\n",
      "Coverage:1.0\n",
      "Avg set size:10.0\n",
      "OF=0.1257\n",
      "CIFAR10-FYLoss-softmax-0.1\n",
      "Coverage:0.9055\n",
      "Avg set size:1.2133\n",
      "OF=0.0155\n",
      "CIFAR10-FYLoss-softmax-0.05\n",
      "Coverage:0.9484\n",
      "Avg set size:1.6022\n",
      "OF=0.0155\n",
      "CIFAR10-FYLoss-softmax-0.01\n",
      "Coverage:0.9875\n",
      "Avg set size:2.9981\n",
      "OF=0.0155\n",
      "CIFAR10-FYLoss-sparsemax-0.1\n",
      "Coverage:0.9049\n",
      "Avg set size:1.2085\n",
      "OF=0.0760\n",
      "CIFAR10-FYLoss-sparsemax-0.05\n",
      "Coverage:1.0\n",
      "Avg set size:10.0\n",
      "OF=0.0760\n",
      "CIFAR10-FYLoss-sparsemax-0.01\n",
      "Coverage:1.0\n",
      "Avg set size:10.0\n",
      "OF=0.0760\n",
      "CIFAR100-NLLLoss-softmax-0.1\n",
      "Coverage:0.9016\n",
      "Avg set size:7.1123\n",
      "OF=0.0348\n",
      "CIFAR100-NLLLoss-softmax-0.05\n",
      "Coverage:0.9529\n",
      "Avg set size:14.4649\n",
      "OF=0.0348\n",
      "CIFAR100-NLLLoss-softmax-0.01\n",
      "Coverage:1.0\n",
      "Avg set size:100.0\n",
      "OF=0.0348\n",
      "CIFAR100-NLLLoss-sparsemax-0.1\n",
      "Coverage:1.0\n",
      "Avg set size:100.0\n",
      "OF=0.3567\n",
      "CIFAR100-NLLLoss-sparsemax-0.05\n",
      "Coverage:1.0\n",
      "Avg set size:100.0\n",
      "OF=0.3567\n",
      "CIFAR100-NLLLoss-sparsemax-0.01\n",
      "Coverage:1.0\n",
      "Avg set size:100.0\n",
      "OF=0.3567\n",
      "CIFAR100-FYLoss-softmax-0.1\n",
      "Coverage:0.8979\n",
      "Avg set size:10.156\n",
      "OF=0.0323\n",
      "CIFAR100-FYLoss-softmax-0.05\n",
      "Coverage:0.9461\n",
      "Avg set size:18.1872\n",
      "OF=0.0323\n",
      "CIFAR100-FYLoss-softmax-0.01\n",
      "Coverage:0.9893\n",
      "Avg set size:42.8952\n",
      "OF=0.0323\n",
      "CIFAR100-FYLoss-sparsemax-0.1\n",
      "Coverage:1.0\n",
      "Avg set size:100.0\n",
      "OF=0.2589\n",
      "CIFAR100-FYLoss-sparsemax-0.05\n",
      "Coverage:1.0\n",
      "Avg set size:100.0\n",
      "OF=0.2589\n",
      "CIFAR100-FYLoss-sparsemax-0.01\n",
      "Coverage:1.0\n",
      "Avg set size:100.0\n",
      "OF=0.2589\n"
     ]
    }
   ],
   "source": [
    "pred_cal_path = '../../predictions/CIFAR10_cal_NLLLoss_softmax_proba.pickle'\n",
    "pred_test_path = '../../predictions/CIFAR10_test_NLLLoss_softmax_proba.pickle'\n",
    "true_cal_path = '../../predictions/CIFAR10_cal_true.pickle'\n",
    "true_test_path = '../../predictions/CIFAR10_test_true.pickle'\n",
    "datasets = ['MNIST','CIFAR10','CIFAR100']\n",
    "losses = ['NLLLoss','FYLoss']\n",
    "scores = ['softmax','sparsemax']\n",
    "alphas = [0.1,0.05,0.01]\n",
    "results = {data:{'test_true': None,\n",
    "                  'predictions':[]} for data in datasets}\n",
    "for key, value in results.items():\n",
    "    true_cal_path = f'../../predictions/{key}_cal_true.pickle'\n",
    "    true_test_path = f'../../predictions/{key}_test_true.pickle'  \n",
    "    for loss in losses:\n",
    "        for score in scores:\n",
    "            pred_cal_path = f'../../predictions/{key}_cal_{loss}_{score}_proba.pickle'\n",
    "            pred_test_path = f'../../predictions/{key}_test_{loss}_{score}_proba.pickle'\n",
    "            pred_cal, pred_test, true_cal, true_test = get_data(pred_cal_path, pred_test_path,true_cal_path, true_test_path)\n",
    "            value['predictions'].append({'loss':loss,\n",
    "                                        'score':score,\n",
    "                                        'cp_preds':[]})\n",
    "            for alpha in alphas:\n",
    "                print(f'{key}-{loss}-{score}-{alpha}')\n",
    "                pred_sets = run_cp(pred_cal, pred_test, true_cal, true_test, alpha)\n",
    "                value['predictions'][-1]['cp_preds'].append({'alpha':alpha,\n",
    "                                                             'sets':pred_sets})"
   ]
  },
  {
   "cell_type": "code",
   "execution_count": 812,
   "id": "b34534f4-7378-4f42-8d76-8d4d943e685a",
   "metadata": {},
   "outputs": [],
   "source": [
    "cal_labels = true_cal.argmax(axis = 1)\n",
    "test_labels = true_test.argmax(axis = 1)"
   ]
  },
  {
   "cell_type": "code",
   "execution_count": 796,
   "id": "020f9374-553d-49f6-9986-62a5327dca0a",
   "metadata": {},
   "outputs": [],
   "source": [
    "# Set RAPS regularization parameters (larger lam_reg and smaller k_reg leads to smaller sets)\n",
    "lam_reg = 0.5\n",
    "k_reg = 1\n",
    "disallow_zero_sets = True # Set this to False in order to see the coverage upper bound hold\n",
    "rand = False # Set this to True in order to see the coverage upper bound hold\n",
    "reg_vec = np.array(k_reg*[0,] + (pred_cal.shape[1]-k_reg)*[lam_reg,])[None,:]"
   ]
  },
  {
   "cell_type": "code",
   "execution_count": 713,
   "id": "42ddcdca-1c28-4b25-84d5-6269de63c3ed",
   "metadata": {},
   "outputs": [],
   "source": [
    "# Get scores. calib_X.shape[0] == calib_Y.shape[0] == n\n",
    "cal_pi = pred_cal.argsort(1)[:,::-1]; \n",
    "cal_srt = np.take_along_axis(pred_cal,cal_pi,axis=1)\n",
    "\n",
    "cal_srt_reg = cal_srt + reg_vec\n",
    "cal_L = np.where(cal_pi == cal_labels[:,None])[1]\n",
    "cal_scores = cal_srt_reg.cumsum(axis=1)[np.arange(n_cal),cal_L] - np.random.rand(n_cal)*cal_srt_reg[np.arange(n_cal),cal_L]\n",
    "# Get the score quantile\n",
    "qhat = np.quantile(cal_scores, np.ceil((n_cal+1)*(1-alpha))/n_cal, method='higher')\n",
    "# Deploy\n",
    "n_val = true_test.shape[0]\n",
    "val_pi = pred_test.argsort(1)[:,::-1]\n",
    "val_srt = np.take_along_axis(pred_test,val_pi,axis=1)\n",
    "val_srt_reg = val_srt + reg_vec\n",
    "val_srt_reg_cumsum = val_srt_reg.cumsum(axis=1)\n",
    "indicators = (val_srt_reg.cumsum(axis=1) - np.random.rand(n_val,1)*val_srt_reg) <= qhat if rand else val_srt_reg.cumsum(axis=1) - val_srt_reg <= qhat\n",
    "if disallow_zero_sets: indicators[:,0] = True\n",
    "prediction_sets = np.take_along_axis(indicators,val_pi.argsort(axis=1),axis=1)"
   ]
  },
  {
   "cell_type": "code",
   "execution_count": 714,
   "id": "bdaeedf3-d023-4c83-a76c-edd92f3569ac",
   "metadata": {},
   "outputs": [
    {
     "name": "stdout",
     "output_type": "stream",
     "text": [
      "The empirical coverage is: 0.9119\n",
      "The quantile is: 5.579866867683232\n"
     ]
    }
   ],
   "source": [
    "empirical_coverage = prediction_sets[np.arange(n_test),test_labels].mean()\n",
    "print(f\"The empirical coverage is: {empirical_coverage}\")\n",
    "print(f\"The quantile is: {qhat}\")"
   ]
  },
  {
   "cell_type": "code",
   "execution_count": 715,
   "id": "94cc9b4b-3922-4ad3-bb36-861b5ae9299e",
   "metadata": {},
   "outputs": [
    {
     "data": {
      "text/plain": [
       "11.0"
      ]
     },
     "execution_count": 715,
     "metadata": {},
     "output_type": "execute_result"
    }
   ],
   "source": [
    "prediction_sets.sum(axis=1).mean()"
   ]
  },
  {
   "cell_type": "code",
   "execution_count": 716,
   "id": "04336b7e-4517-42ba-85d4-6182d78c39a7",
   "metadata": {},
   "outputs": [
    {
     "data": {
      "text/plain": [
       "(array([    0.,     0.,     0.,     0.,     0., 10000.,     0.,     0.,\n",
       "            0.,     0.]),\n",
       " array([10.5, 10.6, 10.7, 10.8, 10.9, 11. , 11.1, 11.2, 11.3, 11.4, 11.5]),\n",
       " <BarContainer object of 10 artists>)"
      ]
     },
     "execution_count": 716,
     "metadata": {},
     "output_type": "execute_result"
    },
    {
     "data": {
      "image/png": "[encoded data removed]",
      "text/plain": [
       "<Figure size 640x480 with 1 Axes>"
      ]
     },
     "metadata": {},
     "output_type": "display_data"
    }
   ],
   "source": [
    "plt.hist(prediction_sets.sum(axis=1))"
   ]
  },
  {
   "cell_type": "code",
   "execution_count": 717,
   "id": "10317d30-e50e-4f5b-90ea-a4fe52a3b2fc",
   "metadata": {},
   "outputs": [
    {
     "data": {
      "text/plain": [
       "(array([2664.,  158.,   59.,   44.,   29.,   18.,   12.,    7.,    4.,\n",
       "           5.]),\n",
       " array([1.45588822e-03, 4.90543703e+00, 9.80941818e+00, 1.47133993e+01,\n",
       "        1.96173805e+01, 2.45213616e+01, 2.94253428e+01, 3.43293239e+01,\n",
       "        3.92333050e+01, 4.41372862e+01, 4.90412673e+01]),\n",
       " <BarContainer object of 10 artists>)"
      ]
     },
     "execution_count": 717,
     "metadata": {},
     "output_type": "execute_result"
    },
    {
     "data": {
      "image/png": "[encoded data removed]",
      "text/plain": [
       "<Figure size 640x480 with 1 Axes>"
      ]
     },
     "metadata": {},
     "output_type": "display_data"
    }
   ],
   "source": [
    "plt.hist(cal_scores)"
   ]
  },
  {
   "cell_type": "code",
   "execution_count": null,
   "id": "7acdfb54-1d87-49b6-a873-c8554b900304",
   "metadata": {},
   "outputs": [],
   "source": []
  },
  {
   "cell_type": "code",
   "execution_count": null,
   "id": "4c9dbfda-8c69-48e9-9e1b-c92252a50a22",
   "metadata": {},
   "outputs": [],
   "source": []
  }
 ],
 "metadata": {
  "kernelspec": {
   "display_name": "Python 3 (ipykernel)",
   "language": "python",
   "name": "python3"
  },
  "language_info": {
   "codemirror_mode": {
    "name": "ipython",
    "version": 3
   },
   "file_extension": ".py",
   "mimetype": "text/x-python",
   "name": "python",
   "nbconvert_exporter": "python",
   "pygments_lexer": "ipython3",
   "version": "3.11.6"
  },
  "widgets": {
   "application/vnd.jupyter.widget-state+json": {
    "state": {},
    "version_major": 2,
    "version_minor": 0
   }
  }
 },
 "nbformat": 4,
 "nbformat_minor": 5
}
