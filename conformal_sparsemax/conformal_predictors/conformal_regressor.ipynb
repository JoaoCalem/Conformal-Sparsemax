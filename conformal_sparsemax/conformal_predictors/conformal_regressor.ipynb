{
 "cells": [
  {
   "cell_type": "code",
   "execution_count": 57,
   "id": "7fcf0d53-f202-4656-b066-4bff0c191158",
   "metadata": {},
   "outputs": [],
   "source": [
    "import numpy as np\n",
    "import matplotlib.pyplot as plt\n",
    "from scipy.special import softmax\n",
    "from scipy.stats import norm"
   ]
  },
  {
   "cell_type": "code",
   "execution_count": 58,
   "id": "1fc0aa05-643b-4256-a124-18e6d3268bad",
   "metadata": {},
   "outputs": [],
   "source": [
    "data = np.genfromtxt('../../notebooks/cancer_1_R2 train 0.844 test 0.668.csv', delimiter=',')\n",
    "preds = data[1,:].T\n",
    "sigmas = data[2,:].T\n",
    "trues = data[0,:].T"
   ]
  },
  {
   "cell_type": "code",
   "execution_count": 43,
   "id": "ec2263a4-79e6-43f5-90fe-567841b67088",
   "metadata": {},
   "outputs": [],
   "source": [
    "# Fake data - expected format!\n",
    "#n_cal = 1000\n",
    "#n_test = 500\n",
    "#pred_cal = 5*np.random.rand(n_cal,1)\n",
    "#sigma_cal = np.random.rand(n_cal,1)\n",
    "#pred_test = np.random.rand(n_test,1)\n",
    "#sigma_test = np.random.rand(n_test,1)\n",
    "#\n",
    "#true_cal = np.random.rand(n_cal,1)\n",
    "#true_test = np.random.rand(n_test,1)"
   ]
  },
  {
   "cell_type": "code",
   "execution_count": 55,
   "id": "d84aba5d-57ff-4adb-8ab9-9eceb6cc97e9",
   "metadata": {},
   "outputs": [
    {
     "name": "stdout",
     "output_type": "stream",
     "text": [
      "150 calibration points\n",
      "95 test points\n",
      "1 classes\n"
     ]
    }
   ],
   "source": [
    "n_cal, n_classes = pred_cal.shape \n",
    "n_test = true_test.shape[0]\n",
    "print(f'{n_cal} calibration points')\n",
    "print(f'{n_test} test points')\n",
    "print(f'{n_classes} classes')"
   ]
  },
  {
   "cell_type": "code",
   "execution_count": 56,
   "id": "86f71068-32fa-4bed-bdc5-0791cd88f5cc",
   "metadata": {},
   "outputs": [],
   "source": [
    "norm_q = norm()"
   ]
  },
  {
   "cell_type": "code",
   "execution_count": null,
   "id": "d8faca18-8df5-417e-9935-8c2f260663be",
   "metadata": {},
   "outputs": [],
   "source": [
    "var_cal = \n",
    "var_test = "
   ]
  },
  {
   "cell_type": "code",
   "execution_count": 53,
   "id": "17a6ae3d-369d-4743-89f8-427412e0ffa7",
   "metadata": {},
   "outputs": [],
   "source": [
    "# scores\n",
    "sigma_cal =\n",
    "sigma_test = \n",
    "cal_scores = np.abs(pred_cal-true_cal)/sigma_cal\n",
    "test_scores = np.abs(pred_test-true_test)/sigma_test"
   ]
  },
  {
   "cell_type": "code",
   "execution_count": 54,
   "id": "916d1766-bf75-4843-8c0a-308570fce134",
   "metadata": {},
   "outputs": [
    {
     "name": "stdout",
     "output_type": "stream",
     "text": [
      "Coverage:1.0\n",
      "Avg width: 479.0889283080371\n"
     ]
    },
    {
     "data": {
      "image/png": "[encoded data removed]",
      "text/plain": [
       "<Figure size 640x480 with 1 Axes>"
      ]
     },
     "metadata": {},
     "output_type": "display_data"
    }
   ],
   "source": [
    "alpha = 0.1\n",
    "q_level = np.ceil((n_cal+1)*(1-alpha))/n_cal\n",
    "qhat = np.quantile(cal_scores, q_level, method = 'higher') # check quantile method\n",
    "\n",
    "# test predictions\n",
    "test_intervals = np.zeros((n_test,2))\n",
    "test_intervals[:,0:1] = pred_test-qhat*sigma_test\n",
    "test_intervals[:,1:] = pred_test+qhat*sigma_test\n",
    "\n",
    "coverage = ((true_test<=test_intervals[:,1:]) & (true_test>=test_intervals[:,0:1])).sum()/n_test\n",
    "\n",
    "print(f'Coverage:{coverage}')\n",
    "widths = test_intervals[:,1]-test_intervals[:,0]\n",
    "avg_width = widths.mean()\n",
    "\n",
    "plt.boxplot(widths)\n",
    "print(f'Avg width: {avg_width}')"
   ]
  },
  {
   "cell_type": "code",
   "execution_count": null,
   "id": "30c91835-a611-470f-b227-4beaa4d4fa18",
   "metadata": {},
   "outputs": [],
   "source": []
  }
 ],
 "metadata": {
  "kernelspec": {
   "display_name": "Python 3 (ipykernel)",
   "language": "python",
   "name": "python3"
  },
  "language_info": {
   "codemirror_mode": {
    "name": "ipython",
    "version": 3
   },
   "file_extension": ".py",
   "mimetype": "text/x-python",
   "name": "python",
   "nbconvert_exporter": "python",
   "pygments_lexer": "ipython3",
   "version": "3.11.6"
  },
  "widgets": {
   "application/vnd.jupyter.widget-state+json": {
    "state": {},
    "version_major": 2,
    "version_minor": 0
   }
  }
 },
 "nbformat": 4,
 "nbformat_minor": 5
}
