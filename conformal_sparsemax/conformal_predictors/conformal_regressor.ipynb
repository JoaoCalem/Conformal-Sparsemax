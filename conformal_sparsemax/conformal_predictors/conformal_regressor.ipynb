{
 "cells": [
  {
   "cell_type": "code",
   "execution_count": 1,
   "id": "7fcf0d53-f202-4656-b066-4bff0c191158",
   "metadata": {},
   "outputs": [],
   "source": [
    "import numpy as np\n",
    "import matplotlib.pyplot as plt\n",
    "from scipy.special import softmax\n",
    "import pickle"
   ]
  },
  {
   "cell_type": "code",
   "execution_count": 41,
   "id": "1fc0aa05-643b-4256-a124-18e6d3268bad",
   "metadata": {},
   "outputs": [],
   "source": [
    "data = np.genfromtxt('../../predictions/regression/1_42_R2 train 0.527 test 0.538.csv', delimiter=',')\n",
    "preds = data[0:1,:].T\n",
    "sigmas = data[1:2,:].T\n",
    "trues = data[2:3,:].T"
   ]
  },
  {
   "cell_type": "code",
   "execution_count": 42,
   "id": "4bd9dff1-bd92-4cd9-a87a-903bb2f7e347",
   "metadata": {},
   "outputs": [],
   "source": [
    "pred_cal = preds[0:150]\n",
    "sigma_cal = sigmas[0:150]\n",
    "pred_test = preds[150:]\n",
    "sigma_test = sigmas[150:]\n",
    "\n",
    "true_cal = trues[0:150]\n",
    "true_test = trues[150:]"
   ]
  },
  {
   "cell_type": "code",
   "execution_count": 43,
   "id": "ec2263a4-79e6-43f5-90fe-567841b67088",
   "metadata": {},
   "outputs": [],
   "source": [
    "# Fake data - expected format!\n",
    "#n_cal = 1000\n",
    "#n_test = 500\n",
    "#pred_cal = 5*np.random.rand(n_cal,1)\n",
    "#sigma_cal = np.random.rand(n_cal,1)\n",
    "#pred_test = np.random.rand(n_test,1)\n",
    "#sigma_test = np.random.rand(n_test,1)\n",
    "#\n",
    "#true_cal = np.random.rand(n_cal,1)\n",
    "#true_test = np.random.rand(n_test,1)"
   ]
  },
  {
   "cell_type": "code",
   "execution_count": 44,
   "id": "d84aba5d-57ff-4adb-8ab9-9eceb6cc97e9",
   "metadata": {},
   "outputs": [
    {
     "name": "stdout",
     "output_type": "stream",
     "text": [
      "150 calibration points\n",
      "95 test points\n",
      "1 classes\n"
     ]
    }
   ],
   "source": [
    "n_cal, n_classes = pred_cal.shape \n",
    "n_test = true_test.shape[0]\n",
    "print(f'{n_cal} calibration points')\n",
    "print(f'{n_test} test points')\n",
    "print(f'{n_classes} classes')"
   ]
  },
  {
   "cell_type": "code",
   "execution_count": 45,
   "id": "17a6ae3d-369d-4743-89f8-427412e0ffa7",
   "metadata": {},
   "outputs": [],
   "source": [
    "# scores\n",
    "cal_scores = np.abs(pred_cal-true_cal)/sigma_cal\n",
    "test_scores = np.abs(pred_test-true_test)/sigma_test"
   ]
  },
  {
   "cell_type": "code",
   "execution_count": 51,
   "id": "916d1766-bf75-4843-8c0a-308570fce134",
   "metadata": {},
   "outputs": [
    {
     "name": "stdout",
     "output_type": "stream",
     "text": [
      "Coverage:0.9894736842105263\n",
      "Avg width: 84.73031330861888\n"
     ]
    },
    {
     "data": {
      "image/png": "[encoded data removed]",
      "text/plain": [
       "<Figure size 640x480 with 1 Axes>"
      ]
     },
     "metadata": {},
     "output_type": "display_data"
    }
   ],
   "source": [
    "alpha = 0.1\n",
    "q_level = np.ceil((n_cal+1)*(1-alpha))/n_cal\n",
    "qhat = np.quantile(cal_scores, q_level, method = 'higher') # check quantile method\n",
    "\n",
    "# test predictions\n",
    "test_intervals = np.zeros((n_test,2))\n",
    "test_intervals[:,0:1] = pred_test-qhat*sigma_test\n",
    "test_intervals[:,1:] = pred_test+qhat*sigma_test\n",
    "\n",
    "coverage = ((true_test<=test_intervals[:,1:]) & (true_test>=test_intervals[:,0:1])).sum()/n_test\n",
    "\n",
    "print(f'Coverage:{coverage}')\n",
    "widths = test_intervals[:,1]-test_intervals[:,0]\n",
    "avg_width = widths.mean()\n",
    "\n",
    "plt.boxplot(widths)\n",
    "print(f'Avg width: {avg_width}')"
   ]
  },
  {
   "cell_type": "code",
   "execution_count": 48,
   "id": "67437547-ca75-4dd4-869e-93ac5e19c5d6",
   "metadata": {},
   "outputs": [
    {
     "data": {
      "text/plain": [
       "array([[22.9258],\n",
       "       [26.7678],\n",
       "       [24.301 ],\n",
       "       [24.3325],\n",
       "       [23.0667],\n",
       "       [32.8579],\n",
       "       [52.2   ],\n",
       "       [55.6446],\n",
       "       [26.    ],\n",
       "       [25.    ],\n",
       "       [26.8   ],\n",
       "       [32.2993],\n",
       "       [36.7669],\n",
       "       [41.347 ],\n",
       "       [37.055 ],\n",
       "       [30.8503],\n",
       "       [36.7669],\n",
       "       [34.8617],\n",
       "       [37.0666],\n",
       "       [36.0277],\n",
       "       [24.7   ],\n",
       "       [36.4738],\n",
       "       [32.8579],\n",
       "       [36.4738],\n",
       "       [32.8579],\n",
       "       [54.2501],\n",
       "       [52.6   ],\n",
       "       [56.4204],\n",
       "       [41.4056],\n",
       "       [35.1628],\n",
       "       [34.7494],\n",
       "       [34.9   ],\n",
       "       [30.6   ],\n",
       "       [31.7   ],\n",
       "       [47.8478],\n",
       "       [50.2436],\n",
       "       [47.2   ],\n",
       "       [46.9   ],\n",
       "       [28.4   ],\n",
       "       [27.9711],\n",
       "       [50.4   ],\n",
       "       [54.05  ],\n",
       "       [59.7   ],\n",
       "       [52.7496],\n",
       "       [40.    ],\n",
       "       [40.9   ],\n",
       "       [40.5   ],\n",
       "       [29.9499],\n",
       "       [31.4   ],\n",
       "       [56.9915],\n",
       "       [46.5   ],\n",
       "       [49.6   ],\n",
       "       [42.    ],\n",
       "       [49.9494],\n",
       "       [45.3   ],\n",
       "       [45.5   ],\n",
       "       [42.8   ],\n",
       "       [43.7   ],\n",
       "       [42.904 ],\n",
       "       [43.2617],\n",
       "       [37.5899],\n",
       "       [36.6557],\n",
       "       [34.4341],\n",
       "       [31.3669],\n",
       "       [41.5661],\n",
       "       [44.708 ],\n",
       "       [59.5361],\n",
       "       [59.4381],\n",
       "       [46.2   ],\n",
       "       [41.399 ],\n",
       "       [44.5159],\n",
       "       [42.4888],\n",
       "       [35.8   ],\n",
       "       [23.4   ],\n",
       "       [33.0499],\n",
       "       [33.6032],\n",
       "       [42.    ],\n",
       "       [37.4874],\n",
       "       [36.1   ],\n",
       "       [39.4   ],\n",
       "       [44.7   ],\n",
       "       [42.5   ],\n",
       "       [41.5   ],\n",
       "       [43.5   ],\n",
       "       [40.5   ],\n",
       "       [39.7   ],\n",
       "       [40.8075],\n",
       "       [37.98  ],\n",
       "       [36.7528],\n",
       "       [33.4   ],\n",
       "       [34.5   ],\n",
       "       [32.4   ],\n",
       "       [39.7   ],\n",
       "       [51.6   ],\n",
       "       [34.7   ],\n",
       "       [47.1   ],\n",
       "       [35.7222],\n",
       "       [37.9997],\n",
       "       [31.2274],\n",
       "       [30.548 ],\n",
       "       [35.4966],\n",
       "       [35.4966],\n",
       "       [33.6032],\n",
       "       [29.8378],\n",
       "       [27.7307],\n",
       "       [29.8378],\n",
       "       [27.7307],\n",
       "       [37.9   ],\n",
       "       [34.5   ],\n",
       "       [33.9   ],\n",
       "       [37.2998],\n",
       "       [36.544 ],\n",
       "       [36.9202],\n",
       "       [37.4259],\n",
       "       [35.4354],\n",
       "       [35.891 ],\n",
       "       [43.2979],\n",
       "       [45.5991],\n",
       "       [41.7   ],\n",
       "       [38.7   ],\n",
       "       [38.7   ],\n",
       "       [37.5899],\n",
       "       [36.6557],\n",
       "       [34.4341],\n",
       "       [31.3669],\n",
       "       [32.2   ],\n",
       "       [28.1   ],\n",
       "       [25.7   ],\n",
       "       [27.8   ],\n",
       "       [25.6   ],\n",
       "       [27.2   ],\n",
       "       [31.3641],\n",
       "       [31.3639],\n",
       "       [28.716 ],\n",
       "       [28.7009],\n",
       "       [24.4   ],\n",
       "       [25.6   ],\n",
       "       [24.6   ],\n",
       "       [25.6   ],\n",
       "       [28.5668],\n",
       "       [28.5674],\n",
       "       [25.8975],\n",
       "       [25.8972],\n",
       "       [19.5139],\n",
       "       [30.45  ],\n",
       "       [21.4734],\n",
       "       [21.4734],\n",
       "       [21.4734],\n",
       "       [23.    ],\n",
       "       [21.8   ]])"
      ]
     },
     "execution_count": 48,
     "metadata": {},
     "output_type": "execute_result"
    }
   ],
   "source": []
  },
  {
   "cell_type": "code",
   "execution_count": null,
   "id": "6ba33fe9-cb6b-4ad5-9039-abb91b3896b9",
   "metadata": {},
   "outputs": [],
   "source": []
  }
 ],
 "metadata": {
  "kernelspec": {
   "display_name": "Python 3 (ipykernel)",
   "language": "python",
   "name": "python3"
  },
  "language_info": {
   "codemirror_mode": {
    "name": "ipython",
    "version": 3
   },
   "file_extension": ".py",
   "mimetype": "text/x-python",
   "name": "python",
   "nbconvert_exporter": "python",
   "pygments_lexer": "ipython3",
   "version": "3.11.6"
  },
  "widgets": {
   "application/vnd.jupyter.widget-state+json": {
    "state": {},
    "version_major": 2,
    "version_minor": 0
   }
  }
 },
 "nbformat": 4,
 "nbformat_minor": 5
}
