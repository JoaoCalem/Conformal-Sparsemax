{
 "cells": [
  {
   "cell_type": "code",
   "execution_count": 3,
   "id": "bb435ae2-c3cc-4290-9f54-e2f83655fdac",
   "metadata": {},
   "outputs": [],
   "source": [
    "import numpy as np\n",
    "import matplotlib.pyplot as plt\n",
    "from scipy.special import softmax\n",
    "import pickle\n",
    "import pandas as pd\n",
    "from entmax import sparsemax\n",
    "import torch"
   ]
  },
  {
   "cell_type": "code",
   "execution_count": 2,
   "id": "422f221c-6a4e-4332-9965-03189f62d0cc",
   "metadata": {},
   "outputs": [],
   "source": [
    "# Get non-conformity scores\n",
    "alpha = 0.1\n",
    "pred_cal_path = '../../predictions/CIFAR10_cal_NLLLoss_softmax_proba.pickle'\n",
    "pred_test_path = '../../predictions/CIFAR10_test_NLLLoss_softmax_proba.pickle'\n",
    "true_cal_path = '../../predictions/CIFAR10_cal_true.pickle'\n",
    "true_test_path = '../../predictions/CIFAR10_test_true.pickle'\n",
    "\n",
    "def get_data(pred_cal_path, pred_test_path,true_cal_path, true_test_path):\n",
    "    with open(pred_cal_path, 'rb') as f:\n",
    "        pred_cal = pickle.load(f)\n",
    "    with open(pred_test_path, 'rb') as f:\n",
    "        pred_test = pickle.load(f)\n",
    "    with open(true_cal_path, 'rb') as f:\n",
    "        true_cal = pickle.load(f)\n",
    "    with open(true_test_path, 'rb') as f:\n",
    "        true_test = pickle.load(f)\n",
    "    return pred_cal, pred_test, true_cal, true_test"
   ]
  },
  {
   "cell_type": "code",
   "execution_count": 6,
   "id": "8b47b923-c563-4dba-b5fa-ba8266f673fe",
   "metadata": {},
   "outputs": [],
   "source": [
    "pred_cal, pred_test, true_cal, true_test = get_data(pred_cal_path, \n",
    "                                                    pred_test_path,\n",
    "                                                    true_cal_path, \n",
    "                                                    true_test_path)\n",
    "n_test = pred_test.shape[0]\n",
    "n_cal, n_classes = pred_cal.shape "
   ]
  },
  {
   "cell_type": "code",
   "execution_count": 7,
   "id": "f12ad843-4ae2-4547-9c30-656a49d0975f",
   "metadata": {},
   "outputs": [],
   "source": [
    "# Get calibration quantile\n",
    "true_mask = true_cal.astype(bool)\n",
    "cal_scores = 1 - pred_cal[true_mask]\n",
    "\n",
    "q_level = np.ceil((n_cal+1)*(1-alpha))/n_cal\n",
    "qhat = np.quantile(cal_scores, q_level, method = 'higher') # check quantile method\n",
    "\n",
    "# test scores\n",
    "test_scores = 1 - pred_test\n",
    "#alternative\n",
    "#test_scores = ((1 - pred_test)/(n_classes-pred_test.astype(bool).sum(axis=1).reshape((n_test,1))))\n",
    "test_match = test_scores<= qhat"
   ]
  },
  {
   "cell_type": "code",
   "execution_count": 24,
   "id": "4b022811-8cd0-4726-bbae-c34c5239786e",
   "metadata": {},
   "outputs": [
    {
     "data": {
      "text/plain": [
       "array([3, 8, 8, ..., 5, 1, 7])"
      ]
     },
     "execution_count": 24,
     "metadata": {},
     "output_type": "execute_result"
    }
   ],
   "source": [
    "true_test.argmax(axis = 1)"
   ]
  },
  {
   "cell_type": "code",
   "execution_count": 34,
   "id": "102b64e9-0ef7-4b21-845d-4e7affdf62e4",
   "metadata": {},
   "outputs": [],
   "source": [
    "array = np.array([[4,2,7,1],\n",
    "                   [10,2,5,4]])\n",
    "ranks = np.flip(array.argsort(axis = 1),axis = 1).argsort()\n"
   ]
  },
  {
   "cell_type": "code",
   "execution_count": 35,
   "id": "f9be4b72-bb48-4491-88aa-59e5addc1672",
   "metadata": {},
   "outputs": [
    {
     "data": {
      "text/plain": [
       "array([[1, 2, 0, 3],\n",
       "       [0, 3, 1, 2]])"
      ]
     },
     "execution_count": 35,
     "metadata": {},
     "output_type": "execute_result"
    }
   ],
   "source": [
    "ranks"
   ]
  },
  {
   "cell_type": "code",
   "execution_count": 39,
   "id": "b06ba781-bf09-46ab-a12f-1f61ce86c5d2",
   "metadata": {},
   "outputs": [
    {
     "data": {
      "text/plain": [
       "array([[0, 0, 0, ..., 0, 0, 0],\n",
       "       [0, 0, 0, ..., 0, 1, 0],\n",
       "       [0, 0, 0, ..., 0, 1, 0],\n",
       "       ...,\n",
       "       [0, 0, 0, ..., 0, 0, 0],\n",
       "       [0, 1, 0, ..., 0, 0, 0],\n",
       "       [0, 0, 0, ..., 1, 0, 0]])"
      ]
     },
     "execution_count": 39,
     "metadata": {},
     "output_type": "execute_result"
    }
   ],
   "source": [
    "true_test"
   ]
  },
  {
   "cell_type": "code",
   "execution_count": 18,
   "id": "84628e18-8017-45c5-be76-9cf5c29303b3",
   "metadata": {},
   "outputs": [
    {
     "data": {
      "text/plain": [
       "array([[4.9429428e-04, 2.8393635e-05, 1.0591329e-08, ..., 5.5816861e-05,\n",
       "        3.3313660e-05, 4.4173135e-05],\n",
       "       [1.0369331e-05, 1.8023030e-04, 7.0902301e-10, ..., 1.7914086e-07,\n",
       "        9.9979967e-01, 7.7196755e-06],\n",
       "       [3.1236430e-06, 2.2516808e-06, 4.2893913e-07, ..., 1.9568512e-07,\n",
       "        9.9999166e-01, 2.4531684e-07],\n",
       "       ...,\n",
       "       [7.6206739e-08, 8.6769283e-08, 2.9525172e-06, ..., 1.7726909e-04,\n",
       "        3.0087048e-07, 1.0447869e-06],\n",
       "       [1.0492793e-06, 9.9995935e-01, 3.9540984e-07, ..., 2.7276397e-07,\n",
       "        1.9206888e-07, 4.2753959e-07],\n",
       "       [8.4794256e-06, 1.9544952e-07, 2.8989442e-07, ..., 9.9998569e-01,\n",
       "        1.2514633e-06, 1.3111909e-08]], dtype=float32)"
      ]
     },
     "execution_count": 18,
     "metadata": {},
     "output_type": "execute_result"
    }
   ],
   "source": [
    "pred_test"
   ]
  },
  {
   "cell_type": "code",
   "execution_count": 36,
   "id": "b95e2e33-3acf-4f8c-8170-3b85c828a3fd",
   "metadata": {},
   "outputs": [
    {
     "data": {
      "text/plain": [
       "array([[2, 6, 9, ..., 3, 5, 4],\n",
       "       [2, 1, 8, ..., 6, 0, 3],\n",
       "       [1, 2, 5, ..., 7, 0, 6],\n",
       "       ...,\n",
       "       [8, 7, 4, ..., 1, 6, 5],\n",
       "       [2, 0, 5, ..., 6, 7, 4],\n",
       "       [1, 5, 4, ..., 0, 3, 9]])"
      ]
     },
     "execution_count": 36,
     "metadata": {},
     "output_type": "execute_result"
    }
   ],
   "source": [
    "ranks = np.flip(pred_test.argsort(axis = 1),axis = 1).argsort()\n",
    "ranks"
   ]
  },
  {
   "cell_type": "code",
   "execution_count": 8,
   "id": "00559576-c022-48d3-98ff-cb6f312605e5",
   "metadata": {},
   "outputs": [],
   "source": [
    "betas = np.linspace(0.1,1.5,20)\n",
    "coverages = []\n",
    "avg_sizes = []\n",
    "for beta in betas:\n",
    "    sparse_pred = sparsemax(torch.tensor(pred_test)*beta, dim = -1)\n",
    "    sparse_pred = sparse_pred.numpy()\n",
    "    pred_match = sparse_pred>0\n",
    "    coverages.append(pred_match[true_test.astype(bool)].sum()/n_test)\n",
    "    avg_sizes.append(pred_match.sum(axis = 1).mean())"
   ]
  },
  {
   "cell_type": "code",
   "execution_count": null,
   "id": "bb14fd9b-f6c1-426b-9154-20d397ad0a36",
   "metadata": {},
   "outputs": [],
   "source": []
  }
 ],
 "metadata": {
  "kernelspec": {
   "display_name": "Python 3 (ipykernel)",
   "language": "python",
   "name": "python3"
  },
  "language_info": {
   "codemirror_mode": {
    "name": "ipython",
    "version": 3
   },
   "file_extension": ".py",
   "mimetype": "text/x-python",
   "name": "python",
   "nbconvert_exporter": "python",
   "pygments_lexer": "ipython3",
   "version": "3.11.6"
  },
  "widgets": {
   "application/vnd.jupyter.widget-state+json": {
    "state": {},
    "version_major": 2,
    "version_minor": 0
   }
  }
 },
 "nbformat": 4,
 "nbformat_minor": 5
}
