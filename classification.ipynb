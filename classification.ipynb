{
 "cells": [
  {
   "cell_type": "code",
   "execution_count": 1,
   "metadata": {},
   "outputs": [
    {
     "name": "stdout",
     "output_type": "stream",
     "text": [
      "The autoreload extension is already loaded. To reload it, use:\n",
      "  %reload_ext autoreload\n"
     ]
    }
   ],
   "source": [
    "%load_ext autoreload\n",
    "%autoreload 2"
   ]
  },
  {
   "cell_type": "code",
   "execution_count": 2,
   "metadata": {},
   "outputs": [],
   "source": [
    "from conformal_sparsemax.classifier import CNN,get_data,train,evaluate"
   ]
  },
  {
   "cell_type": "code",
   "execution_count": 3,
   "metadata": {},
   "outputs": [],
   "source": [
    "import torch\n",
    "from torch import nn\n",
    "from sklearn.metrics import f1_score"
   ]
  },
  {
   "cell_type": "code",
   "execution_count": 18,
   "metadata": {},
   "outputs": [],
   "source": [
    "from entmax.losses import SparsemaxLoss, Entmax15Loss"
   ]
  },
  {
   "cell_type": "code",
   "execution_count": 19,
   "metadata": {},
   "outputs": [
    {
     "name": "stdout",
     "output_type": "stream",
     "text": [
      "Files already downloaded and verified\n",
      "Files already downloaded and verified\n",
      "-- Epoch 1 --\n"
     ]
    },
    {
     "name": "stderr",
     "output_type": "stream",
     "text": [
      "2500it [00:30, 81.44it/s]\n"
     ]
    },
    {
     "name": "stdout",
     "output_type": "stream",
     "text": [
      "train_loss: 1.200\n",
      "val_loss: 1.199\n",
      "val_f1: 0.003\n",
      "-- Epoch 2 --\n"
     ]
    },
    {
     "name": "stderr",
     "output_type": "stream",
     "text": [
      "2500it [00:29, 83.64it/s]\n"
     ]
    },
    {
     "name": "stdout",
     "output_type": "stream",
     "text": [
      "train_loss: 1.196\n",
      "val_loss: 1.187\n",
      "val_f1: 0.011\n",
      "-- Epoch 3 --\n"
     ]
    },
    {
     "name": "stderr",
     "output_type": "stream",
     "text": [
      "2500it [00:29, 85.35it/s]\n"
     ]
    },
    {
     "name": "stdout",
     "output_type": "stream",
     "text": [
      "train_loss: 1.177\n",
      "val_loss: 1.167\n",
      "val_f1: 0.041\n",
      "-- Epoch 4 --\n"
     ]
    },
    {
     "name": "stderr",
     "output_type": "stream",
     "text": [
      "2500it [00:29, 84.41it/s]\n"
     ]
    },
    {
     "name": "stdout",
     "output_type": "stream",
     "text": [
      "train_loss: 1.159\n",
      "val_loss: 1.150\n",
      "val_f1: 0.066\n",
      "-- Epoch 5 --\n"
     ]
    },
    {
     "name": "stderr",
     "output_type": "stream",
     "text": [
      "2500it [00:29, 83.98it/s]\n"
     ]
    },
    {
     "name": "stdout",
     "output_type": "stream",
     "text": [
      "train_loss: 1.146\n",
      "val_loss: 1.141\n",
      "val_f1: 0.084\n",
      "-- Epoch 6 --\n"
     ]
    },
    {
     "name": "stderr",
     "output_type": "stream",
     "text": [
      "2500it [00:29, 84.81it/s]\n"
     ]
    },
    {
     "name": "stdout",
     "output_type": "stream",
     "text": [
      "train_loss: 1.136\n",
      "val_loss: 1.133\n",
      "val_f1: 0.096\n",
      "-- Epoch 7 --\n"
     ]
    },
    {
     "name": "stderr",
     "output_type": "stream",
     "text": [
      "2500it [00:28, 86.71it/s]\n"
     ]
    },
    {
     "name": "stdout",
     "output_type": "stream",
     "text": [
      "train_loss: 1.127\n",
      "val_loss: 1.128\n",
      "val_f1: 0.098\n",
      "-- Epoch 8 --\n"
     ]
    },
    {
     "name": "stderr",
     "output_type": "stream",
     "text": [
      "2500it [00:29, 84.17it/s]\n"
     ]
    },
    {
     "name": "stdout",
     "output_type": "stream",
     "text": [
      "train_loss: 1.119\n",
      "val_loss: 1.120\n",
      "val_f1: 0.108\n",
      "-- Epoch 9 --\n"
     ]
    },
    {
     "name": "stderr",
     "output_type": "stream",
     "text": [
      "2500it [00:28, 86.39it/s]\n"
     ]
    },
    {
     "name": "stdout",
     "output_type": "stream",
     "text": [
      "train_loss: 1.111\n",
      "val_loss: 1.121\n",
      "val_f1: 0.110\n",
      "-- Epoch 10 --\n"
     ]
    },
    {
     "name": "stderr",
     "output_type": "stream",
     "text": [
      "2500it [00:28, 86.67it/s]\n"
     ]
    },
    {
     "name": "stdout",
     "output_type": "stream",
     "text": [
      "train_loss: 1.102\n",
      "val_loss: 1.108\n",
      "val_f1: 0.129\n",
      "-- Epoch 11 --\n"
     ]
    },
    {
     "name": "stderr",
     "output_type": "stream",
     "text": [
      "2500it [00:31, 78.31it/s]\n"
     ]
    },
    {
     "name": "stdout",
     "output_type": "stream",
     "text": [
      "train_loss: 1.094\n",
      "val_loss: 1.102\n",
      "val_f1: 0.133\n",
      "-- Epoch 12 --\n"
     ]
    },
    {
     "name": "stderr",
     "output_type": "stream",
     "text": [
      "2500it [00:28, 86.50it/s]\n"
     ]
    },
    {
     "name": "stdout",
     "output_type": "stream",
     "text": [
      "train_loss: 1.085\n",
      "val_loss: 1.096\n",
      "val_f1: 0.146\n",
      "-- Epoch 13 --\n"
     ]
    },
    {
     "name": "stderr",
     "output_type": "stream",
     "text": [
      "2500it [00:29, 85.39it/s]\n"
     ]
    },
    {
     "name": "stdout",
     "output_type": "stream",
     "text": [
      "train_loss: 1.078\n",
      "val_loss: 1.095\n",
      "val_f1: 0.155\n",
      "-- Epoch 14 --\n"
     ]
    },
    {
     "name": "stderr",
     "output_type": "stream",
     "text": [
      "2500it [00:56, 44.26it/s]\n"
     ]
    },
    {
     "name": "stdout",
     "output_type": "stream",
     "text": [
      "train_loss: 1.070\n",
      "val_loss: 1.091\n",
      "val_f1: 0.150\n",
      "-- Epoch 15 --\n"
     ]
    },
    {
     "name": "stderr",
     "output_type": "stream",
     "text": [
      "2500it [01:02, 40.16it/s]\n"
     ]
    },
    {
     "name": "stdout",
     "output_type": "stream",
     "text": [
      "train_loss: 1.063\n",
      "val_loss: 1.093\n",
      "val_f1: 0.155\n",
      "-- Epoch 16 --\n"
     ]
    },
    {
     "name": "stderr",
     "output_type": "stream",
     "text": [
      "2500it [00:56, 44.03it/s]\n"
     ]
    },
    {
     "name": "stdout",
     "output_type": "stream",
     "text": [
      "train_loss: 1.055\n",
      "val_loss: 1.090\n",
      "val_f1: 0.161\n",
      "-- Epoch 17 --\n"
     ]
    },
    {
     "name": "stderr",
     "output_type": "stream",
     "text": [
      "2500it [00:59, 42.29it/s]\n"
     ]
    },
    {
     "name": "stdout",
     "output_type": "stream",
     "text": [
      "train_loss: 1.048\n",
      "val_loss: 1.083\n",
      "val_f1: 0.165\n",
      "-- Epoch 18 --\n"
     ]
    },
    {
     "name": "stderr",
     "output_type": "stream",
     "text": [
      "613it [00:16, 46.74it/s]"
     ]
    }
   ],
   "source": [
    "loss = 'entmax15'\n",
    "model = CNN(loss)\n",
    "if loss == 'sparsemax':\n",
    "    criterion = SparsemaxLoss()\n",
    "elif loss == 'entmax15':\n",
    "    criterion = Entmax15Loss()\n",
    "elif loss == 'softmax':\n",
    "    criterion = torch.nn.NLLLoss()\n",
    "train_dataloader, dev_dataloader, test_dataloader = get_data(0.2,16)\n",
    "model, train_history, val_history, f1_history = train(model,\n",
    "                                            train_dataloader,\n",
    "                                            dev_dataloader,\n",
    "                                            criterion,\n",
    "                                            epochs=50,\n",
    "                                            patience=3)\n",
    "\n",
    "_, predicted_labels, true_labels, test_loss = evaluate(\n",
    "                                                    model,\n",
    "                                                    test_dataloader,\n",
    "                                                    criterion)\n",
    "\n",
    "f1 = f1_score(true_labels, predicted_labels, average='weighted')\n",
    "\n",
    "print(f'Test loss: {test_loss:.3f}')\n",
    "print(f'Test f1: {f1:.3f}')"
   ]
  },
  {
   "cell_type": "code",
   "execution_count": null,
   "metadata": {},
   "outputs": [],
   "source": [
    "results = {\n",
    "    'train_history':train_history,\n",
    "    'val_history':val_history,\n",
    "    'f1_history':f1_history,\n",
    "}"
   ]
  },
  {
   "cell_type": "code",
   "execution_count": null,
   "metadata": {},
   "outputs": [],
   "source": [
    "import json\n",
    "with open('results/entmax15_results.json', 'w') as f:\n",
    "    json.dump(results, f)"
   ]
  },
  {
   "cell_type": "code",
   "execution_count": null,
   "metadata": {},
   "outputs": [],
   "source": [
    "torch.save(model.state_dict(), 'models/entmax15.pth')"
   ]
  },
  {
   "cell_type": "code",
   "execution_count": null,
   "metadata": {},
   "outputs": [],
   "source": []
  }
 ],
 "metadata": {
  "kernelspec": {
   "display_name": "phd",
   "language": "python",
   "name": "python3"
  },
  "language_info": {
   "codemirror_mode": {
    "name": "ipython",
    "version": 3
   },
   "file_extension": ".py",
   "mimetype": "text/x-python",
   "name": "python",
   "nbconvert_exporter": "python",
   "pygments_lexer": "ipython3",
   "version": "3.7.13"
  }
 },
 "nbformat": 4,
 "nbformat_minor": 2
}
