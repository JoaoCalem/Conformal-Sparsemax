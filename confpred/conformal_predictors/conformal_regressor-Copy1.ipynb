{
 "cells": [
  {
   "cell_type": "code",
   "execution_count": 1,
   "id": "7fcf0d53-f202-4656-b066-4bff0c191158",
   "metadata": {},
   "outputs": [],
   "source": [
    "import numpy as np\n",
    "import matplotlib.pyplot as plt\n",
    "\n",
    "from scipy.special import softmax\n",
    "from scipy.stats import norm"
   ]
  },
  {
   "cell_type": "code",
   "execution_count": 2,
   "id": "1fc0aa05-643b-4256-a124-18e6d3268bad",
   "metadata": {},
   "outputs": [
    {
     "ename": "FileNotFoundError",
     "evalue": "../../notebooks/cancer_2_R2 train 0.914 test 0.940.csv not found.",
     "output_type": "error",
     "traceback": [
      "\u001b[0;31m---------------------------------------------------------------------------\u001b[0m",
      "\u001b[0;31mFileNotFoundError\u001b[0m                         Traceback (most recent call last)",
      "Cell \u001b[0;32mIn[2], line 1\u001b[0m\n\u001b[0;32m----> 1\u001b[0m data \u001b[38;5;241m=\u001b[39m \u001b[43mnp\u001b[49m\u001b[38;5;241;43m.\u001b[39;49m\u001b[43mgenfromtxt\u001b[49m\u001b[43m(\u001b[49m\u001b[38;5;124;43m'\u001b[39;49m\u001b[38;5;124;43m../../notebooks/cancer_2_R2 train 0.914 test 0.940.csv\u001b[39;49m\u001b[38;5;124;43m'\u001b[39;49m\u001b[43m,\u001b[49m\u001b[43m \u001b[49m\u001b[43mdelimiter\u001b[49m\u001b[38;5;241;43m=\u001b[39;49m\u001b[38;5;124;43m'\u001b[39;49m\u001b[38;5;124;43m,\u001b[39;49m\u001b[38;5;124;43m'\u001b[39;49m\u001b[43m)\u001b[49m\n\u001b[1;32m      2\u001b[0m preds \u001b[38;5;241m=\u001b[39m data[\u001b[38;5;241m1\u001b[39m:\u001b[38;5;241m2\u001b[39m,:]\u001b[38;5;241m.\u001b[39mT\n\u001b[1;32m      3\u001b[0m sigmas \u001b[38;5;241m=\u001b[39m data[\u001b[38;5;241m2\u001b[39m:\u001b[38;5;241m3\u001b[39m,:]\u001b[38;5;241m.\u001b[39mT\n",
      "File \u001b[0;32m~/miniconda3/envs/dsl/lib/python3.10/site-packages/numpy/lib/npyio.py:1980\u001b[0m, in \u001b[0;36mgenfromtxt\u001b[0;34m(fname, dtype, comments, delimiter, skip_header, skip_footer, converters, missing_values, filling_values, usecols, names, excludelist, deletechars, replace_space, autostrip, case_sensitive, defaultfmt, unpack, usemask, loose, invalid_raise, max_rows, encoding, ndmin, like)\u001b[0m\n\u001b[1;32m   1978\u001b[0m     fname \u001b[38;5;241m=\u001b[39m os_fspath(fname)\n\u001b[1;32m   1979\u001b[0m \u001b[38;5;28;01mif\u001b[39;00m \u001b[38;5;28misinstance\u001b[39m(fname, \u001b[38;5;28mstr\u001b[39m):\n\u001b[0;32m-> 1980\u001b[0m     fid \u001b[38;5;241m=\u001b[39m \u001b[43mnp\u001b[49m\u001b[38;5;241;43m.\u001b[39;49m\u001b[43mlib\u001b[49m\u001b[38;5;241;43m.\u001b[39;49m\u001b[43m_datasource\u001b[49m\u001b[38;5;241;43m.\u001b[39;49m\u001b[43mopen\u001b[49m\u001b[43m(\u001b[49m\u001b[43mfname\u001b[49m\u001b[43m,\u001b[49m\u001b[43m \u001b[49m\u001b[38;5;124;43m'\u001b[39;49m\u001b[38;5;124;43mrt\u001b[39;49m\u001b[38;5;124;43m'\u001b[39;49m\u001b[43m,\u001b[49m\u001b[43m \u001b[49m\u001b[43mencoding\u001b[49m\u001b[38;5;241;43m=\u001b[39;49m\u001b[43mencoding\u001b[49m\u001b[43m)\u001b[49m\n\u001b[1;32m   1981\u001b[0m     fid_ctx \u001b[38;5;241m=\u001b[39m contextlib\u001b[38;5;241m.\u001b[39mclosing(fid)\n\u001b[1;32m   1982\u001b[0m \u001b[38;5;28;01melse\u001b[39;00m:\n",
      "File \u001b[0;32m~/miniconda3/envs/dsl/lib/python3.10/site-packages/numpy/lib/_datasource.py:193\u001b[0m, in \u001b[0;36mopen\u001b[0;34m(path, mode, destpath, encoding, newline)\u001b[0m\n\u001b[1;32m    156\u001b[0m \u001b[38;5;250m\u001b[39m\u001b[38;5;124;03m\"\"\"\u001b[39;00m\n\u001b[1;32m    157\u001b[0m \u001b[38;5;124;03mOpen `path` with `mode` and return the file object.\u001b[39;00m\n\u001b[1;32m    158\u001b[0m \n\u001b[0;32m   (...)\u001b[0m\n\u001b[1;32m    189\u001b[0m \n\u001b[1;32m    190\u001b[0m \u001b[38;5;124;03m\"\"\"\u001b[39;00m\n\u001b[1;32m    192\u001b[0m ds \u001b[38;5;241m=\u001b[39m DataSource(destpath)\n\u001b[0;32m--> 193\u001b[0m \u001b[38;5;28;01mreturn\u001b[39;00m \u001b[43mds\u001b[49m\u001b[38;5;241;43m.\u001b[39;49m\u001b[43mopen\u001b[49m\u001b[43m(\u001b[49m\u001b[43mpath\u001b[49m\u001b[43m,\u001b[49m\u001b[43m \u001b[49m\u001b[43mmode\u001b[49m\u001b[43m,\u001b[49m\u001b[43m \u001b[49m\u001b[43mencoding\u001b[49m\u001b[38;5;241;43m=\u001b[39;49m\u001b[43mencoding\u001b[49m\u001b[43m,\u001b[49m\u001b[43m \u001b[49m\u001b[43mnewline\u001b[49m\u001b[38;5;241;43m=\u001b[39;49m\u001b[43mnewline\u001b[49m\u001b[43m)\u001b[49m\n",
      "File \u001b[0;32m~/miniconda3/envs/dsl/lib/python3.10/site-packages/numpy/lib/_datasource.py:533\u001b[0m, in \u001b[0;36mDataSource.open\u001b[0;34m(self, path, mode, encoding, newline)\u001b[0m\n\u001b[1;32m    530\u001b[0m     \u001b[38;5;28;01mreturn\u001b[39;00m _file_openers[ext](found, mode\u001b[38;5;241m=\u001b[39mmode,\n\u001b[1;32m    531\u001b[0m                               encoding\u001b[38;5;241m=\u001b[39mencoding, newline\u001b[38;5;241m=\u001b[39mnewline)\n\u001b[1;32m    532\u001b[0m \u001b[38;5;28;01melse\u001b[39;00m:\n\u001b[0;32m--> 533\u001b[0m     \u001b[38;5;28;01mraise\u001b[39;00m \u001b[38;5;167;01mFileNotFoundError\u001b[39;00m(\u001b[38;5;124mf\u001b[39m\u001b[38;5;124m\"\u001b[39m\u001b[38;5;132;01m{\u001b[39;00mpath\u001b[38;5;132;01m}\u001b[39;00m\u001b[38;5;124m not found.\u001b[39m\u001b[38;5;124m\"\u001b[39m)\n",
      "\u001b[0;31mFileNotFoundError\u001b[0m: ../../notebooks/cancer_2_R2 train 0.914 test 0.940.csv not found."
     ]
    }
   ],
   "source": [
    "data = np.genfromtxt('../../notebooks/cancer_2_R2 train 0.914 test 0.940.csv', delimiter=',')\n",
    "preds = data[1:2,:].T\n",
    "sigmas = data[2:3,:].T\n",
    "trues = data[0:1,:].T\n",
    "x = data[3:4,:].T"
   ]
  },
  {
   "cell_type": "code",
   "execution_count": null,
   "id": "06b0c55c-fad8-4995-945b-cc6bc4598e55",
   "metadata": {},
   "outputs": [],
   "source": [
    "p = np.random.permutation(len(preds))\n",
    "preds = preds[p]\n",
    "sigmas = sigmas[p]\n",
    "trues = trues[p]\n",
    "x = x[p]"
   ]
  },
  {
   "cell_type": "code",
   "execution_count": null,
   "id": "a9c7cd72-2e30-4e30-ae0b-e9e6d3e041b9",
   "metadata": {},
   "outputs": [],
   "source": [
    "pred_cal = preds[:100]\n",
    "pred_test = preds[100:]\n",
    "var_cal = sigmas[:100]\n",
    "var_test = sigmas[100:]\n",
    "true_cal = trues[:100]\n",
    "true_test = trues[100:]\n",
    "x_cal = x[:100]\n",
    "x_test = x[100:]"
   ]
  },
  {
   "cell_type": "code",
   "execution_count": null,
   "id": "ec2263a4-79e6-43f5-90fe-567841b67088",
   "metadata": {},
   "outputs": [],
   "source": [
    "# Fake data - expected format!\n",
    "#n_cal = 1000\n",
    "#n_test = 500\n",
    "#pred_cal = 5*np.random.rand(n_cal,1)\n",
    "#sigma_cal = np.random.rand(n_cal,1)\n",
    "#pred_test = np.random.rand(n_test,1)\n",
    "#sigma_test = np.random.rand(n_test,1)\n",
    "#\n",
    "#true_cal = np.random.rand(n_cal,1)\n",
    "#true_test = np.random.rand(n_test,1)"
   ]
  },
  {
   "cell_type": "code",
   "execution_count": null,
   "id": "d84aba5d-57ff-4adb-8ab9-9eceb6cc97e9",
   "metadata": {},
   "outputs": [],
   "source": [
    "n_cal, n_classes = pred_cal.shape \n",
    "n_test = true_test.shape[0]\n",
    "print(f'{n_cal} calibration points')\n",
    "print(f'{n_test} test points')\n",
    "print(f'{n_classes} classes')"
   ]
  },
  {
   "cell_type": "code",
   "execution_count": null,
   "id": "17a6ae3d-369d-4743-89f8-427412e0ffa7",
   "metadata": {},
   "outputs": [],
   "source": [
    "# scores\n",
    "sigma_cal = var_cal\n",
    "sigma_test = var_test\n",
    "cal_scores = np.abs(pred_cal-true_cal)/sigma_cal\n",
    "test_scores = np.abs(pred_test-true_test)/sigma_test"
   ]
  },
  {
   "cell_type": "code",
   "execution_count": null,
   "id": "9c466a78-7663-439c-8701-31d50b7bbfc5",
   "metadata": {},
   "outputs": [],
   "source": [
    "plt.hist(cal_scores);"
   ]
  },
  {
   "cell_type": "code",
   "execution_count": null,
   "id": "916d1766-bf75-4843-8c0a-308570fce134",
   "metadata": {},
   "outputs": [],
   "source": [
    "alpha = 0.1\n",
    "q_level = np.ceil((n_cal+1)*(1-alpha))/n_cal\n",
    "qhat = np.quantile(cal_scores, q_level, method = 'higher') # check quantile method\n",
    "\n",
    "# test predictions\n",
    "test_intervals = np.zeros((n_test,2))\n",
    "test_intervals[:,0:1] = pred_test-qhat*sigma_test\n",
    "test_intervals[:,1:] = pred_test+qhat*sigma_test\n",
    "\n",
    "coverage = ((true_test<=test_intervals[:,1:]) & (true_test>=test_intervals[:,0:1])).sum()/n_test\n",
    "\n",
    "print(f'Coverage:{coverage}')\n",
    "widths = test_intervals[:,1]-test_intervals[:,0]\n",
    "avg_width = widths.mean()\n",
    "\n",
    "plt.boxplot(widths)\n",
    "print(f'Avg width: {avg_width}')"
   ]
  },
  {
   "cell_type": "code",
   "execution_count": null,
   "id": "c1ee3a32-d1f2-4246-a7a9-8561c6823b7c",
   "metadata": {},
   "outputs": [],
   "source": [
    "import pandas as pd"
   ]
  },
  {
   "cell_type": "code",
   "execution_count": null,
   "id": "9bc4b780-d599-496b-9752-43bc6e19321a",
   "metadata": {},
   "outputs": [],
   "source": [
    "x_test[:, 0]"
   ]
  },
  {
   "cell_type": "code",
   "execution_count": null,
   "id": "945d186b-5631-4b33-a5a4-cce68b5e80ee",
   "metadata": {},
   "outputs": [],
   "source": [
    "df = pd.DataFrame({'x':x_test[:,0],\n",
    "                   'lower': test_intervals[:,0],\n",
    "                   'upper':test_intervals[:,1]})"
   ]
  },
  {
   "cell_type": "code",
   "execution_count": null,
   "id": "0d96658b-d89a-4066-8ec2-004fa18450cf",
   "metadata": {},
   "outputs": [],
   "source": [
    "df.sort_values(by = 'x', inplace = True)"
   ]
  },
  {
   "cell_type": "code",
   "execution_count": null,
   "id": "53f811e5-23ce-417d-93de-671199d3e97a",
   "metadata": {},
   "outputs": [],
   "source": [
    "#plt.plot(x_test, pred_test, color='C0', label=\"predicted mean\")\n",
    "\n",
    "plt.fill_between(df['x'],\n",
    "                df['lower'],\n",
    "                df['upper'],\n",
    "                alpha=0.2, color='blue')\n",
    "   \n",
    "# Plot the truth\n",
    "plt.scatter(x_cal, true_cal, marker='.', color='C1', label='cal')\n",
    "plt.scatter(x_test, true_test, marker='x', color='C2', label='test')\n",
    "plt.legend()\n",
    "#plt.set_ylim(-10, 370)\n",
    "#plt.set_xlim(None, t[-1])"
   ]
  },
  {
   "cell_type": "code",
   "execution_count": null,
   "id": "01a4203f-ff0f-4c14-bc6a-e941361527fd",
   "metadata": {},
   "outputs": [],
   "source": [
    "test_intervals = np.zeros((n_test,2))\n",
    "test_intervals[:,0:1] = pred_test-sigma_test**2\n",
    "test_intervals[:,1:] = pred_test+sigma_test**2\n",
    "((true_test<=test_intervals[:,1:]) & (true_test>=test_intervals[:,0:1])).sum()/n_test"
   ]
  },
  {
   "cell_type": "code",
   "execution_count": null,
   "id": "888e63fa-3a49-4325-bb68-9167d8ae696d",
   "metadata": {},
   "outputs": [],
   "source": []
  }
 ],
 "metadata": {
  "kernelspec": {
   "display_name": "Python 3 (ipykernel)",
   "language": "python",
   "name": "python3"
  },
  "language_info": {
   "codemirror_mode": {
    "name": "ipython",
    "version": 3
   },
   "file_extension": ".py",
   "mimetype": "text/x-python",
   "name": "python",
   "nbconvert_exporter": "python",
   "pygments_lexer": "ipython3",
   "version": "3.10.14"
  },
  "widgets": {
   "application/vnd.jupyter.widget-state+json": {
    "state": {},
    "version_major": 2,
    "version_minor": 0
   }
  }
 },
 "nbformat": 4,
 "nbformat_minor": 5
}
