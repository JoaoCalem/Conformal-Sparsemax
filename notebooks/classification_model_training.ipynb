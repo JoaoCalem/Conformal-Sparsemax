{
 "cells": [
  {
   "cell_type": "code",
   "execution_count": 3,
   "metadata": {},
   "outputs": [],
   "source": [
    "import os\n",
    "if 'Conformal-Sparsemax/notebooks' in os.getcwd():\n",
    "    os.chdir(os.path.dirname(os.getcwd()))"
   ]
  },
  {
   "cell_type": "code",
   "execution_count": 4,
   "metadata": {},
   "outputs": [],
   "source": [
    "from conformal_sparsemax.classifier import CNN, get_data,train,evaluate"
   ]
  },
  {
   "cell_type": "code",
   "execution_count": 5,
   "metadata": {},
   "outputs": [],
   "source": [
    "import torch\n",
    "from torch import nn\n",
    "from sklearn.metrics import f1_score"
   ]
  },
  {
   "cell_type": "code",
   "execution_count": 6,
   "metadata": {},
   "outputs": [],
   "source": [
    "from entmax.losses import SparsemaxLoss, Entmax15Loss"
   ]
  },
  {
   "cell_type": "code",
   "execution_count": 8,
   "metadata": {},
   "outputs": [
    {
     "name": "stdout",
     "output_type": "stream",
     "text": [
      "Files already downloaded and verified\n",
      "Files already downloaded and verified\n"
     ]
    },
    {
     "ename": "NameError",
     "evalue": "name 'CNN_CIFAR' is not defined",
     "output_type": "error",
     "traceback": [
      "\u001b[0;31m---------------------------------------------------------------------------\u001b[0m",
      "\u001b[0;31mNameError\u001b[0m                                 Traceback (most recent call last)",
      "Cell \u001b[0;32mIn[8], line 15\u001b[0m\n\u001b[1;32m     12\u001b[0m data\u001b[38;5;241m=\u001b[39m get_data(\u001b[38;5;241m0.2\u001b[39m,\u001b[38;5;241m16\u001b[39m,dataset \u001b[38;5;241m=\u001b[39m dataset)\n\u001b[1;32m     14\u001b[0m \u001b[38;5;28;01mif\u001b[39;00m dataset \u001b[38;5;241m==\u001b[39m \u001b[38;5;124m'\u001b[39m\u001b[38;5;124mCIFAR100\u001b[39m\u001b[38;5;124m'\u001b[39m:\n\u001b[0;32m---> 15\u001b[0m     model \u001b[38;5;241m=\u001b[39m \u001b[43mCNN_CIFAR\u001b[49m(loss)\u001b[38;5;241m.\u001b[39mto(device)\n\u001b[1;32m     16\u001b[0m \u001b[38;5;28;01melif\u001b[39;00m dataset \u001b[38;5;241m==\u001b[39m \u001b[38;5;124m'\u001b[39m\u001b[38;5;124mMNIST\u001b[39m\u001b[38;5;124m'\u001b[39m:\n\u001b[1;32m     17\u001b[0m     model \u001b[38;5;241m=\u001b[39m CNN(loss,n_classes\u001b[38;5;241m=\u001b[39m\u001b[38;5;241m10\u001b[39m,input_size\u001b[38;5;241m=\u001b[39m\u001b[38;5;241m28\u001b[39m,channels\u001b[38;5;241m=\u001b[39m\u001b[38;5;241m1\u001b[39m)\u001b[38;5;241m.\u001b[39mto(device)\n",
      "\u001b[0;31mNameError\u001b[0m: name 'CNN_CIFAR' is not defined"
     ]
    }
   ],
   "source": [
    "loss = 'sparsemax' #sparsemax or softmax\n",
    "dataset = 'CIFAR100' #CIFAR100 or MNIST\n",
    "\n",
    "device = 'cuda' if torch.cuda.is_available() else 'cpu'\n",
    "\n",
    "if loss == 'sparsemax':\n",
    "    criterion = SparsemaxLoss()\n",
    "elif loss == 'entmax15':\n",
    "    criterion = Entmax15Loss()\n",
    "elif loss == 'softmax':\n",
    "    criterion = torch.nn.NLLLoss()\n",
    "data= get_data(0.2,16,dataset = dataset)\n",
    "\n",
    "if dataset == 'CIFAR100':\n",
    "    model = CNN_CIFAR(loss).to(device)\n",
    "elif dataset == 'MNIST':\n",
    "    model = CNN(loss,n_classes=10,input_size=28,channels=1).to(device)\n",
    "else:\n",
    "    raise Exception('Wrong dataset name')\n",
    "    \n",
    "model, train_history, val_history, f1_history = train(model,\n",
    "                                            train_dataloader,\n",
    "                                            dev_dataloader,\n",
    "                                            criterion,\n",
    "                                            epochs=350,\n",
    "                                            patience=3)\n",
    "\n",
    "_, predicted_labels, true_labels, test_loss = evaluate(\n",
    "                                                    model,\n",
    "                                                    test_dataloader,\n",
    "                                                    criterion)\n",
    "\n",
    "f1 = f1_score(true_labels, predicted_labels, average='weighted')\n",
    "\n",
    "print(f'Test loss: {test_loss:.3f}')\n",
    "print(f'Test f1: {f1:.3f}')"
   ]
  },
  {
   "cell_type": "code",
   "execution_count": null,
   "metadata": {},
   "outputs": [],
   "source": [
    "results = {\n",
    "    'train_history':train_history,\n",
    "    'val_history':val_history,\n",
    "    'f1_history':f1_history,\n",
    "}"
   ]
  },
  {
   "cell_type": "code",
   "execution_count": null,
   "metadata": {},
   "outputs": [],
   "source": [
    "import json\n",
    "with open(f'results/{dataset}_{loss}_results.json', 'w') as f:\n",
    "    json.dump(results, f)"
   ]
  },
  {
   "cell_type": "code",
   "execution_count": null,
   "metadata": {},
   "outputs": [],
   "source": [
    "torch.save(model.state_dict(), f'models/{dataset}_{loss}.pth')"
   ]
  },
  {
   "cell_type": "code",
   "execution_count": null,
   "metadata": {},
   "outputs": [],
   "source": []
  }
 ],
 "metadata": {
  "kernelspec": {
   "display_name": "Python 3 (ipykernel)",
   "language": "python",
   "name": "python3"
  },
  "language_info": {
   "codemirror_mode": {
    "name": "ipython",
    "version": 3
   },
   "file_extension": ".py",
   "mimetype": "text/x-python",
   "name": "python",
   "nbconvert_exporter": "python",
   "pygments_lexer": "ipython3",
   "version": "3.12.3"
  }
 },
 "nbformat": 4,
 "nbformat_minor": 4
}
