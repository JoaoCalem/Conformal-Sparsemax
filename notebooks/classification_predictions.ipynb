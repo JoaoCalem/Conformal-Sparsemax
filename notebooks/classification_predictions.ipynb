{
 "cells": [
  {
   "cell_type": "code",
   "execution_count": 1,
   "metadata": {},
   "outputs": [],
   "source": [
    "import os\n",
    "if 'Conformal-Sparsemax/notebooks' in os.getcwd():\n",
    "    os.fchdir(os.path.dirname(os.getcwd()))"
   ]
  },
  {
   "cell_type": "code",
   "execution_count": 3,
   "metadata": {},
   "outputs": [
    {
     "data": {
      "text/plain": [
       "'/home/joaocalem/code/PhD/Classes/Deep-Structure-Learning/Conformal-Sparsemax/notebooks'"
      ]
     },
     "execution_count": 3,
     "metadata": {},
     "output_type": "execute_result"
    }
   ],
   "source": [
    "os.getcwd()"
   ]
  },
  {
   "cell_type": "code",
   "execution_count": 2,
   "metadata": {},
   "outputs": [
    {
     "ename": "ModuleNotFoundError",
     "evalue": "No module named 'conformal_sparsemax'",
     "output_type": "error",
     "traceback": [
      "\u001b[0;31m---------------------------------------------------------------------------\u001b[0m",
      "\u001b[0;31mModuleNotFoundError\u001b[0m                       Traceback (most recent call last)",
      "\u001b[0;32m/tmp/ipykernel_58728/362509867.py\u001b[0m in \u001b[0;36m<module>\u001b[0;34m\u001b[0m\n\u001b[0;32m----> 1\u001b[0;31m \u001b[0;32mfrom\u001b[0m \u001b[0mconformal_sparsemax\u001b[0m\u001b[0;34m.\u001b[0m\u001b[0mclassifier\u001b[0m \u001b[0;32mimport\u001b[0m \u001b[0mCNN\u001b[0m\u001b[0;34m,\u001b[0m\u001b[0mget_data\u001b[0m\u001b[0;34m,\u001b[0m \u001b[0mevaluate\u001b[0m\u001b[0;34m\u001b[0m\u001b[0;34m\u001b[0m\u001b[0m\n\u001b[0m\u001b[1;32m      2\u001b[0m \u001b[0;32mfrom\u001b[0m \u001b[0msklearn\u001b[0m\u001b[0;34m.\u001b[0m\u001b[0mmetrics\u001b[0m \u001b[0;32mimport\u001b[0m \u001b[0mf1_score\u001b[0m\u001b[0;34m\u001b[0m\u001b[0;34m\u001b[0m\u001b[0m\n\u001b[1;32m      3\u001b[0m \u001b[0;32mimport\u001b[0m \u001b[0mtorch\u001b[0m\u001b[0;34m\u001b[0m\u001b[0;34m\u001b[0m\u001b[0m\n\u001b[1;32m      4\u001b[0m \u001b[0;32mimport\u001b[0m \u001b[0mnumpy\u001b[0m \u001b[0;32mas\u001b[0m \u001b[0mnp\u001b[0m\u001b[0;34m\u001b[0m\u001b[0;34m\u001b[0m\u001b[0m\n\u001b[1;32m      5\u001b[0m \u001b[0;32mimport\u001b[0m \u001b[0mpickle\u001b[0m\u001b[0;34m\u001b[0m\u001b[0;34m\u001b[0m\u001b[0m\n",
      "\u001b[0;31mModuleNotFoundError\u001b[0m: No module named 'conformal_sparsemax'"
     ]
    }
   ],
   "source": [
    "from conformal_sparsemax.classifier import CNN,get_data, evaluate\n",
    "from sklearn.metrics import f1_score\n",
    "import torch\n",
    "import numpy as np\n",
    "import pickle\n",
    "from entmax.losses import SparsemaxLoss, Entmax15Loss"
   ]
  },
  {
   "cell_type": "code",
   "execution_count": null,
   "metadata": {},
   "outputs": [],
   "source": [
    "loss = 'sparsemax' #sparsemax, softmax or entmax15\n",
    "dataset='MNIST' #CIFAR100 or MNIST"
   ]
  },
  {
   "cell_type": "code",
   "execution_count": null,
   "metadata": {},
   "outputs": [],
   "source": [
    "if dataset == 'CIFAR100':\n",
    "    model = CNN(loss)\n",
    "elif dataset == 'MNIST':\n",
    "    model = CNN(loss,n_classes=10,input_size=28,channels=1)\n",
    "else:\n",
    "    raise Exception('Wrong dataset name')\n",
    "\n",
    "_,_, test_dataloader, cal_dataloader = get_data(0.2,16,dataset = dataset)\n",
    "model.load_state_dict(torch.load(f'models/{dataset}_{loss}.pth'))\n",
    "if loss == 'sparsemax':\n",
    "    criterion = SparsemaxLoss()\n",
    "elif loss == 'entmax15':\n",
    "    criterion = Entmax15Loss()\n",
    "elif loss == 'softmax':\n",
    "    criterion = torch.nn.NLLLoss()"
   ]
  },
  {
   "cell_type": "code",
   "execution_count": null,
   "metadata": {},
   "outputs": [
    {
     "name": "stdout",
     "output_type": "stream",
     "text": [
      "Test loss: 0.009\n",
      "Test f1: 0.988\n"
     ]
    }
   ],
   "source": [
    "test_proba, test_pred, test_true, test_loss = evaluate(\n",
    "                                                    model,\n",
    "                                                    test_dataloader,\n",
    "                                                    criterion)\n",
    "\n",
    "test_f1 = f1_score(test_pred, test_true, average='weighted')\n",
    "\n",
    "print(f'Test loss: {test_loss:.3f}')\n",
    "print(f'Test f1: {test_f1:.3f}')"
   ]
  },
  {
   "cell_type": "code",
   "execution_count": null,
   "metadata": {},
   "outputs": [
    {
     "name": "stdout",
     "output_type": "stream",
     "text": [
      "type: <class 'numpy.ndarray'>\n",
      "pred_proba shape: (10000, 10)\n",
      "pred_labels shape: (10000,)\n",
      "true_labels shape: (10000,)\n"
     ]
    }
   ],
   "source": [
    "print('type:', type(test_proba))\n",
    "print('pred_proba shape:',test_proba.shape)\n",
    "print('pred_labels shape:',test_pred.shape)\n",
    "print('true_labels shape:',test_true.shape)"
   ]
  },
  {
   "cell_type": "code",
   "execution_count": null,
   "metadata": {},
   "outputs": [
    {
     "data": {
      "text/plain": [
       "0.08963800000000001"
      ]
     },
     "execution_count": 7,
     "metadata": {},
     "output_type": "execute_result"
    }
   ],
   "source": [
    "((test_proba==0).sum(axis=1)/100).mean()"
   ]
  },
  {
   "cell_type": "code",
   "execution_count": null,
   "metadata": {},
   "outputs": [
    {
     "name": "stdout",
     "output_type": "stream",
     "text": [
      "Calibration loss: 0.005\n",
      "Calibration f1: 0.995\n"
     ]
    }
   ],
   "source": [
    "cal_proba, cal_pred, cal_true, cal_loss = evaluate(\n",
    "                                                    model,\n",
    "                                                    cal_dataloader,\n",
    "                                                    criterion)\n",
    "\n",
    "cal_f1 = f1_score(cal_pred, cal_true, average='weighted')\n",
    "\n",
    "print(f'Calibration loss: {cal_loss:.3f}')\n",
    "print(f'Calibration f1: {cal_f1:.3f}')"
   ]
  },
  {
   "cell_type": "code",
   "execution_count": null,
   "metadata": {},
   "outputs": [],
   "source": [
    "#One Hot Encoding\n",
    "test_true_enc = np.zeros((test_true.size, test_true.max()+1), dtype=int)\n",
    "test_true_enc[np.arange(test_true.size),test_true] = 1\n",
    "\n",
    "cal_true_enc = np.zeros((cal_true.size, cal_true.max()+1), dtype=int)\n",
    "cal_true_enc[np.arange(cal_true.size),cal_true] = 1"
   ]
  },
  {
   "cell_type": "code",
   "execution_count": null,
   "metadata": {},
   "outputs": [],
   "source": [
    "predictions = {'test':{'proba':test_proba,'true':test_true_enc},\n",
    " 'cal':{'proba':cal_proba,'true':cal_true_enc}}"
   ]
  },
  {
   "cell_type": "code",
   "execution_count": null,
   "metadata": {},
   "outputs": [],
   "source": [
    "for dataset_type in ['cal','test']:\n",
    "    for y in ['proba','true']:\n",
    "        with open(f'predictions/{dataset}_{loss}_{dataset_type}_{y}.pickle', 'wb') as f:\n",
    "            pickle.dump(predictions[dataset_type][y], f)"
   ]
  },
  {
   "cell_type": "code",
   "execution_count": null,
   "metadata": {},
   "outputs": [],
   "source": [
    "with open('predictions/CIFAR100_sparsemax_test_true.pickle', 'rb') as f:\n",
    "    test_true = pickle.load(f)"
   ]
  },
  {
   "cell_type": "code",
   "execution_count": null,
   "metadata": {},
   "outputs": [],
   "source": []
  }
 ],
 "metadata": {
  "kernelspec": {
   "display_name": "phd",
   "language": "python",
   "name": "python3"
  },
  "language_info": {
   "codemirror_mode": {
    "name": "ipython",
    "version": 3
   },
   "file_extension": ".py",
   "mimetype": "text/x-python",
   "name": "python",
   "nbconvert_exporter": "python",
   "pygments_lexer": "ipython3",
   "version": "3.7.13"
  }
 },
 "nbformat": 4,
 "nbformat_minor": 2
}
