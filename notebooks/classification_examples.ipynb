{
 "cells": [
  {
   "cell_type": "code",
   "execution_count": 17,
   "metadata": {},
   "outputs": [],
   "source": [
    "import os\n",
    "if 'Conformal-Sparsemax/notebooks' in os.getcwd():\n",
    "    os.chdir(os.path.dirname(os.getcwd()))"
   ]
  },
  {
   "cell_type": "code",
   "execution_count": 18,
   "metadata": {},
   "outputs": [],
   "source": [
    "import pickle\n",
    "from conformal_sparsemax.classifier.datasets import CIFAR10, CIFAR100, MNIST\n",
    "import matplotlib.pyplot as plt\n",
    "import torchvision\n",
    "import numpy as np"
   ]
  },
  {
   "cell_type": "code",
   "execution_count": 25,
   "metadata": {},
   "outputs": [],
   "source": [
    "loss = 'FYLoss' #FYLoss or NLLLoss\n",
    "transformation = 'softmax' #sparsemax, softmax or entmax15\n",
    "dataset='CIFAR100' #CIFAR100 or MNIST"
   ]
  },
  {
   "cell_type": "code",
   "execution_count": 26,
   "metadata": {},
   "outputs": [],
   "source": [
    "with open(f'predictions/{dataset}_cal_{loss}_{transformation}_proba.pickle', 'rb') as f:\n",
    "    pred_cal = pickle.load(f)\n",
    "with open(f'predictions/{dataset}_test_{loss}_{transformation}_proba.pickle', 'rb') as f:\n",
    "    pred_test = pickle.load(f)\n",
    "with open(f'predictions/{dataset}_cal_true.pickle', 'rb') as f:\n",
    "    true_cal = pickle.load(f)\n",
    "with open(f'predictions/{dataset}_test_true.pickle', 'rb') as f:\n",
    "    true_test = pickle.load(f)"
   ]
  },
  {
   "cell_type": "code",
   "execution_count": 27,
   "metadata": {},
   "outputs": [
    {
     "name": "stdout",
     "output_type": "stream",
     "text": [
      "Files already downloaded and verified\n",
      "Files already downloaded and verified\n"
     ]
    }
   ],
   "source": [
    "data_class = {\n",
    "    'CIFAR100': CIFAR100,\n",
    "    'CIFAR10': CIFAR10,\n",
    "    'MNIST': MNIST,\n",
    "}\n",
    "\n",
    "data = data_class[dataset](0.2, 16, 3000, False)"
   ]
  },
  {
   "cell_type": "code",
   "execution_count": 28,
   "metadata": {},
   "outputs": [],
   "source": [
    "to_pil = torchvision.transforms.ToPILImage()"
   ]
  },
  {
   "cell_type": "code",
   "execution_count": 29,
   "metadata": {},
   "outputs": [],
   "source": [
    "str_labels = ['apple', 'aquarium_fish', 'baby', 'bear', 'beaver', 'bed', 'bee', 'beetle', 'bicycle', 'bottle', 'bowl', 'boy', 'bridge', 'bus', 'butterfly', 'camel', 'can', 'castle', 'caterpillar', 'cattle', 'chair', 'chimpanzee', 'clock', 'cloud', 'cockroach', 'couch', 'crab', 'crocodile', 'cup', 'dinosaur', 'dolphin', 'elephant', 'flatfish', 'forest', 'fox', 'girl', 'hamster', 'house', 'kangaroo', 'keyboard', 'lamp', 'lawn_mower', 'leopard', 'lion', 'lizard', 'lobster', 'man', 'maple_tree', 'motorcycle', 'mountain', 'mouse', 'mushroom', 'oak_tree', 'orange', 'orchid', 'otter', 'palm_tree', 'pear', 'pickup_truck', 'pine_tree', 'plain', 'plate', 'poppy', 'porcupine', 'possum', 'rabbit', 'raccoon', 'ray', 'road', 'rocket', 'rose', 'sea', 'seal', 'shark', 'shrew', 'skunk', 'skyscraper', 'snail', 'snake', 'spider', 'squirrel', 'streetcar', 'sunflower', 'sweet_pepper', 'table', 'tank', 'telephone', 'television', 'tiger', 'tractor', 'train', 'trout', 'tulip', 'turtle', 'wardrobe', 'whale', 'willow_tree', 'wolf', 'woman', 'worm']"
   ]
  },
  {
   "cell_type": "code",
   "execution_count": 44,
   "metadata": {},
   "outputs": [],
   "source": [
    "n_cal, n_classes = pred_cal.shape \n",
    "n_test = true_test.shape[0]\n",
    "alpha = 0.1\n",
    "true_mask = true_cal.astype(bool)\n",
    "cal_scores = 1 - pred_cal[true_mask]\n",
    "q_level = np.ceil((n_cal+1)*(1-alpha))/n_cal\n",
    "qhat = np.quantile(cal_scores, q_level, method = 'higher') # check quantile method\n",
    "test_scores = 1 - pred_test\n",
    "test_match = test_scores<= qhat"
   ]
  },
  {
   "cell_type": "code",
   "execution_count": 109,
   "metadata": {},
   "outputs": [
    {
     "name": "stdout",
     "output_type": "stream",
     "text": [
      "[ 927 1369 2286 2931 3164 3218 3582 3791 6846]\n"
     ]
    }
   ],
   "source": [
    "print(np.where(((test_match.sum(axis =1)<5) & \\\n",
    "                (test_match.sum(axis =1)>2) & \\\n",
    "                (sparse_match.sum(axis =1)>1)& \\\n",
    "                (~sparse_match[true_test.astype(bool)])))[0])"
   ]
  },
  {
   "cell_type": "code",
   "execution_count": 74,
   "metadata": {},
   "outputs": [],
   "source": [
    "transformation = 'sparsemax'\n",
    "with open(f'predictions/{dataset}_test_{loss}_{transformation}_proba.pickle', 'rb') as f:\n",
    "    pred_test_sparse = pickle.load(f)"
   ]
  },
  {
   "cell_type": "code",
   "execution_count": 110,
   "metadata": {},
   "outputs": [
    {
     "name": "stdout",
     "output_type": "stream",
     "text": [
      "True label: pine_tree\n",
      "Predicted CP Set: ['maple_tree', 'oak_tree', 'pine_tree', 'willow_tree']\n",
      "Predicted Sparsemax Set: ['maple_tree', 'oak_tree']\n"
     ]
    },
    {
     "data": {
      "image/png": "[encoded data removed]",
      "text/plain": [
       "<Figure size 640x480 with 1 Axes>"
      ]
     },
     "metadata": {},
     "output_type": "display_data"
    }
   ],
   "source": [
    "i = 2931\n",
    "sample = data.test.dataset[i]\n",
    "print('True label:', str_labels[sample[1]])\n",
    "pred_set = np.where(test_match[i])[0]\n",
    "pred_labels = [str_labels[k] for k in pred_set]\n",
    "pred_sparse_set = np.where(pred_test_sparse[i]>0)[0]\n",
    "pred_labels_sparse = [str_labels[k] for k in pred_sparse_set]\n",
    "print('Predicted CP Set:', pred_labels)\n",
    "print('Predicted Sparsemax Set:', pred_labels_sparse)\n",
    "\n",
    "plt.imshow(to_pil(sample[0]));"
   ]
  },
  {
   "cell_type": "code",
   "execution_count": 81,
   "metadata": {},
   "outputs": [
    {
     "name": "stdout",
     "output_type": "stream",
     "text": [
      "0.8979 10.156\n"
     ]
    }
   ],
   "source": [
    "coverage = test_match[true_test.astype(bool)].sum()/n_test\n",
    "set_size = test_match.sum(axis = 1)\n",
    "print(coverage,set_size.mean())"
   ]
  },
  {
   "cell_type": "code",
   "execution_count": 82,
   "metadata": {},
   "outputs": [
    {
     "name": "stdout",
     "output_type": "stream",
     "text": [
      "0.7329 2.379\n"
     ]
    }
   ],
   "source": [
    "sparse_match = pred_test_sparse>0\n",
    "coverage = sparse_match[true_test.astype(bool)].sum()/n_test\n",
    "set_size = sparse_match.sum(axis = 1)\n",
    "print(coverage,set_size.mean())"
   ]
  },
  {
   "cell_type": "code",
   "execution_count": 98,
   "metadata": {},
   "outputs": [
    {
     "data": {
      "text/plain": [
       "array([ True, False,  True, ..., False, False, False])"
      ]
     },
     "execution_count": 98,
     "metadata": {},
     "output_type": "execute_result"
    }
   ],
   "source": []
  },
  {
   "cell_type": "code",
   "execution_count": null,
   "metadata": {},
   "outputs": [],
   "source": []
  }
 ],
 "metadata": {
  "kernelspec": {
   "display_name": "Python 3 (ipykernel)",
   "language": "python",
   "name": "python3"
  },
  "language_info": {
   "codemirror_mode": {
    "name": "ipython",
    "version": 3
   },
   "file_extension": ".py",
   "mimetype": "text/x-python",
   "name": "python",
   "nbconvert_exporter": "python",
   "pygments_lexer": "ipython3",
   "version": "3.11.6"
  },
  "widgets": {
   "application/vnd.jupyter.widget-state+json": {
    "state": {},
    "version_major": 2,
    "version_minor": 0
   }
  }
 },
 "nbformat": 4,
 "nbformat_minor": 4
}
