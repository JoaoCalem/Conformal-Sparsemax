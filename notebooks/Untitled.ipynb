{
 "cells": [
  {
   "cell_type": "code",
   "execution_count": 1,
   "id": "37f91998-123d-458a-a024-bd5a0d87ba03",
   "metadata": {},
   "outputs": [],
   "source": [
    "# ! pip install statsmodels\n",
    "# !pip install patsy\n",
    "\n",
    "import matplotlib.pyplot as plt\n",
    "from patsy import dmatrices\n",
    "import statsmodels.api as sm"
   ]
  },
  {
   "cell_type": "code",
   "execution_count": 83,
   "id": "9ab4df27-092b-4dd4-ae94-7ca17894a2b6",
   "metadata": {},
   "outputs": [],
   "source": [
    "dataset_nile = sm.datasets.nile.load_pandas() # negative r2 with naive models\n",
    "dataset_engel = sm.datasets.engel.load_pandas() # heterosced\n",
    "dataset_copper = sm.datasets.copper.load_pandas() # not COPPERPRICE"
   ]
  },
  {
   "cell_type": "code",
   "execution_count": 84,
   "id": "bd73b873-069b-42cc-836d-4858d8e2883a",
   "metadata": {
    "scrolled": true
   },
   "outputs": [
    {
     "data": {
      "text/html": [
       "<div>\n",
       "<style scoped>\n",
       "    .dataframe tbody tr th:only-of-type {\n",
       "        vertical-align: middle;\n",
       "    }\n",
       "\n",
       "    .dataframe tbody tr th {\n",
       "        vertical-align: top;\n",
       "    }\n",
       "\n",
       "    .dataframe thead th {\n",
       "        text-align: right;\n",
       "    }\n",
       "</style>\n",
       "<table border=\"1\" class=\"dataframe\">\n",
       "  <thead>\n",
       "    <tr style=\"text-align: right;\">\n",
       "      <th></th>\n",
       "      <th>WORLDCONSUMPTION</th>\n",
       "      <th>COPPERPRICE</th>\n",
       "      <th>INCOMEINDEX</th>\n",
       "      <th>ALUMPRICE</th>\n",
       "      <th>INVENTORYINDEX</th>\n",
       "      <th>TIME</th>\n",
       "    </tr>\n",
       "  </thead>\n",
       "  <tbody>\n",
       "    <tr>\n",
       "      <th>0</th>\n",
       "      <td>3173.0</td>\n",
       "      <td>26.56</td>\n",
       "      <td>0.70</td>\n",
       "      <td>19.76</td>\n",
       "      <td>0.98</td>\n",
       "      <td>1.0</td>\n",
       "    </tr>\n",
       "    <tr>\n",
       "      <th>1</th>\n",
       "      <td>3281.1</td>\n",
       "      <td>27.31</td>\n",
       "      <td>0.71</td>\n",
       "      <td>20.78</td>\n",
       "      <td>1.04</td>\n",
       "      <td>2.0</td>\n",
       "    </tr>\n",
       "    <tr>\n",
       "      <th>2</th>\n",
       "      <td>3135.7</td>\n",
       "      <td>32.95</td>\n",
       "      <td>0.72</td>\n",
       "      <td>22.55</td>\n",
       "      <td>1.05</td>\n",
       "      <td>3.0</td>\n",
       "    </tr>\n",
       "    <tr>\n",
       "      <th>3</th>\n",
       "      <td>3359.1</td>\n",
       "      <td>33.90</td>\n",
       "      <td>0.70</td>\n",
       "      <td>23.06</td>\n",
       "      <td>0.97</td>\n",
       "      <td>4.0</td>\n",
       "    </tr>\n",
       "    <tr>\n",
       "      <th>4</th>\n",
       "      <td>3755.1</td>\n",
       "      <td>42.70</td>\n",
       "      <td>0.74</td>\n",
       "      <td>24.93</td>\n",
       "      <td>1.02</td>\n",
       "      <td>5.0</td>\n",
       "    </tr>\n",
       "    <tr>\n",
       "      <th>5</th>\n",
       "      <td>3875.9</td>\n",
       "      <td>46.11</td>\n",
       "      <td>0.74</td>\n",
       "      <td>26.50</td>\n",
       "      <td>1.04</td>\n",
       "      <td>6.0</td>\n",
       "    </tr>\n",
       "    <tr>\n",
       "      <th>6</th>\n",
       "      <td>3905.7</td>\n",
       "      <td>31.70</td>\n",
       "      <td>0.74</td>\n",
       "      <td>27.24</td>\n",
       "      <td>0.98</td>\n",
       "      <td>7.0</td>\n",
       "    </tr>\n",
       "    <tr>\n",
       "      <th>7</th>\n",
       "      <td>3957.6</td>\n",
       "      <td>27.23</td>\n",
       "      <td>0.72</td>\n",
       "      <td>26.21</td>\n",
       "      <td>0.98</td>\n",
       "      <td>8.0</td>\n",
       "    </tr>\n",
       "    <tr>\n",
       "      <th>8</th>\n",
       "      <td>4279.1</td>\n",
       "      <td>32.89</td>\n",
       "      <td>0.75</td>\n",
       "      <td>26.09</td>\n",
       "      <td>1.03</td>\n",
       "      <td>9.0</td>\n",
       "    </tr>\n",
       "    <tr>\n",
       "      <th>9</th>\n",
       "      <td>4627.9</td>\n",
       "      <td>33.78</td>\n",
       "      <td>0.77</td>\n",
       "      <td>27.40</td>\n",
       "      <td>1.03</td>\n",
       "      <td>10.0</td>\n",
       "    </tr>\n",
       "    <tr>\n",
       "      <th>10</th>\n",
       "      <td>4910.2</td>\n",
       "      <td>31.66</td>\n",
       "      <td>0.76</td>\n",
       "      <td>26.94</td>\n",
       "      <td>0.98</td>\n",
       "      <td>11.0</td>\n",
       "    </tr>\n",
       "    <tr>\n",
       "      <th>11</th>\n",
       "      <td>4908.4</td>\n",
       "      <td>32.28</td>\n",
       "      <td>0.79</td>\n",
       "      <td>25.18</td>\n",
       "      <td>1.00</td>\n",
       "      <td>12.0</td>\n",
       "    </tr>\n",
       "    <tr>\n",
       "      <th>12</th>\n",
       "      <td>5327.9</td>\n",
       "      <td>32.38</td>\n",
       "      <td>0.83</td>\n",
       "      <td>23.94</td>\n",
       "      <td>0.97</td>\n",
       "      <td>13.0</td>\n",
       "    </tr>\n",
       "    <tr>\n",
       "      <th>13</th>\n",
       "      <td>5878.4</td>\n",
       "      <td>33.75</td>\n",
       "      <td>0.85</td>\n",
       "      <td>25.07</td>\n",
       "      <td>1.03</td>\n",
       "      <td>14.0</td>\n",
       "    </tr>\n",
       "    <tr>\n",
       "      <th>14</th>\n",
       "      <td>6075.2</td>\n",
       "      <td>36.25</td>\n",
       "      <td>0.89</td>\n",
       "      <td>25.37</td>\n",
       "      <td>1.08</td>\n",
       "      <td>15.0</td>\n",
       "    </tr>\n",
       "    <tr>\n",
       "      <th>15</th>\n",
       "      <td>6312.7</td>\n",
       "      <td>36.24</td>\n",
       "      <td>0.93</td>\n",
       "      <td>24.55</td>\n",
       "      <td>1.05</td>\n",
       "      <td>16.0</td>\n",
       "    </tr>\n",
       "    <tr>\n",
       "      <th>16</th>\n",
       "      <td>6056.8</td>\n",
       "      <td>38.23</td>\n",
       "      <td>0.95</td>\n",
       "      <td>24.98</td>\n",
       "      <td>1.03</td>\n",
       "      <td>17.0</td>\n",
       "    </tr>\n",
       "    <tr>\n",
       "      <th>17</th>\n",
       "      <td>6375.9</td>\n",
       "      <td>40.83</td>\n",
       "      <td>0.99</td>\n",
       "      <td>24.96</td>\n",
       "      <td>1.03</td>\n",
       "      <td>18.0</td>\n",
       "    </tr>\n",
       "    <tr>\n",
       "      <th>18</th>\n",
       "      <td>6974.3</td>\n",
       "      <td>44.62</td>\n",
       "      <td>1.00</td>\n",
       "      <td>25.52</td>\n",
       "      <td>0.99</td>\n",
       "      <td>19.0</td>\n",
       "    </tr>\n",
       "    <tr>\n",
       "      <th>19</th>\n",
       "      <td>7101.6</td>\n",
       "      <td>52.27</td>\n",
       "      <td>1.00</td>\n",
       "      <td>26.01</td>\n",
       "      <td>1.00</td>\n",
       "      <td>20.0</td>\n",
       "    </tr>\n",
       "    <tr>\n",
       "      <th>20</th>\n",
       "      <td>7071.7</td>\n",
       "      <td>45.16</td>\n",
       "      <td>1.02</td>\n",
       "      <td>25.46</td>\n",
       "      <td>0.96</td>\n",
       "      <td>21.0</td>\n",
       "    </tr>\n",
       "    <tr>\n",
       "      <th>21</th>\n",
       "      <td>7754.8</td>\n",
       "      <td>42.50</td>\n",
       "      <td>1.07</td>\n",
       "      <td>22.17</td>\n",
       "      <td>0.97</td>\n",
       "      <td>22.0</td>\n",
       "    </tr>\n",
       "    <tr>\n",
       "      <th>22</th>\n",
       "      <td>8480.3</td>\n",
       "      <td>43.70</td>\n",
       "      <td>1.12</td>\n",
       "      <td>18.56</td>\n",
       "      <td>0.98</td>\n",
       "      <td>23.0</td>\n",
       "    </tr>\n",
       "    <tr>\n",
       "      <th>23</th>\n",
       "      <td>8105.2</td>\n",
       "      <td>47.88</td>\n",
       "      <td>1.10</td>\n",
       "      <td>21.32</td>\n",
       "      <td>1.01</td>\n",
       "      <td>24.0</td>\n",
       "    </tr>\n",
       "    <tr>\n",
       "      <th>24</th>\n",
       "      <td>7157.2</td>\n",
       "      <td>36.33</td>\n",
       "      <td>1.07</td>\n",
       "      <td>22.75</td>\n",
       "      <td>0.94</td>\n",
       "      <td>25.0</td>\n",
       "    </tr>\n",
       "  </tbody>\n",
       "</table>\n",
       "</div>"
      ],
      "text/plain": [
       "    WORLDCONSUMPTION  COPPERPRICE  INCOMEINDEX  ALUMPRICE  INVENTORYINDEX  \\\n",
       "0             3173.0        26.56         0.70      19.76            0.98   \n",
       "1             3281.1        27.31         0.71      20.78            1.04   \n",
       "2             3135.7        32.95         0.72      22.55            1.05   \n",
       "3             3359.1        33.90         0.70      23.06            0.97   \n",
       "4             3755.1        42.70         0.74      24.93            1.02   \n",
       "5             3875.9        46.11         0.74      26.50            1.04   \n",
       "6             3905.7        31.70         0.74      27.24            0.98   \n",
       "7             3957.6        27.23         0.72      26.21            0.98   \n",
       "8             4279.1        32.89         0.75      26.09            1.03   \n",
       "9             4627.9        33.78         0.77      27.40            1.03   \n",
       "10            4910.2        31.66         0.76      26.94            0.98   \n",
       "11            4908.4        32.28         0.79      25.18            1.00   \n",
       "12            5327.9        32.38         0.83      23.94            0.97   \n",
       "13            5878.4        33.75         0.85      25.07            1.03   \n",
       "14            6075.2        36.25         0.89      25.37            1.08   \n",
       "15            6312.7        36.24         0.93      24.55            1.05   \n",
       "16            6056.8        38.23         0.95      24.98            1.03   \n",
       "17            6375.9        40.83         0.99      24.96            1.03   \n",
       "18            6974.3        44.62         1.00      25.52            0.99   \n",
       "19            7101.6        52.27         1.00      26.01            1.00   \n",
       "20            7071.7        45.16         1.02      25.46            0.96   \n",
       "21            7754.8        42.50         1.07      22.17            0.97   \n",
       "22            8480.3        43.70         1.12      18.56            0.98   \n",
       "23            8105.2        47.88         1.10      21.32            1.01   \n",
       "24            7157.2        36.33         1.07      22.75            0.94   \n",
       "\n",
       "    TIME  \n",
       "0    1.0  \n",
       "1    2.0  \n",
       "2    3.0  \n",
       "3    4.0  \n",
       "4    5.0  \n",
       "5    6.0  \n",
       "6    7.0  \n",
       "7    8.0  \n",
       "8    9.0  \n",
       "9   10.0  \n",
       "10  11.0  \n",
       "11  12.0  \n",
       "12  13.0  \n",
       "13  14.0  \n",
       "14  15.0  \n",
       "15  16.0  \n",
       "16  17.0  \n",
       "17  18.0  \n",
       "18  19.0  \n",
       "19  20.0  \n",
       "20  21.0  \n",
       "21  22.0  \n",
       "22  23.0  \n",
       "23  24.0  \n",
       "24  25.0  "
      ]
     },
     "execution_count": 84,
     "metadata": {},
     "output_type": "execute_result"
    }
   ],
   "source": [
    "dataset_copper.data"
   ]
  },
  {
   "cell_type": "code",
   "execution_count": 85,
   "id": "cb17a8d0-fbf8-4d27-bcb6-d676f48ce5c0",
   "metadata": {},
   "outputs": [],
   "source": [
    "y, X = dmatrices('WORLDCONSUMPTION ~ COPPERPRICE + INCOMEINDEX + ALUMPRICE + INVENTORYINDEX + TIME', data=dataset_copper.data, return_type='dataframe')"
   ]
  },
  {
   "cell_type": "code",
   "execution_count": 90,
   "id": "12910d38-09bb-4244-aa3c-7c583952d01c",
   "metadata": {},
   "outputs": [],
   "source": [
    "# plt.scatter(X.foodexp, y, marker='.')"
   ]
  },
  {
   "cell_type": "code",
   "execution_count": 73,
   "id": "27ac03fb-4793-420c-8c42-3741fba828ce",
   "metadata": {},
   "outputs": [],
   "source": [
    "# Statistically confirm that the data is not heteroscedastic\n",
    "from statsmodels.stats.diagnostic import het_breuschpagan, het_white"
   ]
  },
  {
   "cell_type": "code",
   "execution_count": 86,
   "id": "d1a0c19c-0b0c-4375-b546-be66810f6ae5",
   "metadata": {},
   "outputs": [],
   "source": [
    "ols = sm.OLS(y, X)\n",
    "ols_result = ols.fit()"
   ]
  },
  {
   "cell_type": "code",
   "execution_count": 75,
   "id": "6354e6f2-3605-444f-a35e-ecbeaefbb186",
   "metadata": {},
   "outputs": [],
   "source": [
    "# residuals of a LM are not dependent on X"
   ]
  },
  {
   "cell_type": "code",
   "execution_count": 91,
   "id": "685078fc-d82d-4440-ae3f-79aa37e00246",
   "metadata": {},
   "outputs": [],
   "source": [
    "# plt.scatter(X.COPPERPRICE, ols_result.resid)"
   ]
  },
  {
   "cell_type": "code",
   "execution_count": 12,
   "id": "6d30fe98-08c6-4fde-9718-709b3d85eeeb",
   "metadata": {},
   "outputs": [],
   "source": [
    "# statistical tests confirm this:"
   ]
  },
  {
   "cell_type": "code",
   "execution_count": 88,
   "id": "5a90024a-2c31-40e9-87fb-7fa624bb7ba6",
   "metadata": {},
   "outputs": [
    {
     "data": {
      "text/plain": [
       "(22.132882717151546,\n",
       " 0.3333438279909271,\n",
       " 1.5439119180477152,\n",
       " 0.3649896306823901)"
      ]
     },
     "execution_count": 88,
     "metadata": {},
     "output_type": "execute_result"
    }
   ],
   "source": [
    "het_white(ols_result.resid, X)"
   ]
  },
  {
   "cell_type": "code",
   "execution_count": 89,
   "id": "527eec7b-ffc3-4896-aa02-21bbd35f60cd",
   "metadata": {},
   "outputs": [
    {
     "data": {
      "text/plain": [
       "(13.867917431785603,\n",
       " 0.016470551734637028,\n",
       " 1.7003845104163364,\n",
       " 0.18294381219628733)"
      ]
     },
     "execution_count": 89,
     "metadata": {},
     "output_type": "execute_result"
    }
   ],
   "source": [
    "het_breuschpagan(ols_result.resid, X, robust=False)"
   ]
  },
  {
   "cell_type": "code",
   "execution_count": 92,
   "id": "40ab8c28-c0ff-4b11-8db5-1632fb95e0b8",
   "metadata": {},
   "outputs": [],
   "source": [
    "# Fitting models\n",
    "\n",
    "# !pip install scikit-learn\n",
    "import torch\n",
    "import numpy as np\n",
    "from sklearn.metrics import r2_score\n",
    "\n",
    "from heteroscedastic import BetaGaussianMLP, BetaGaussianLM, _radius\n",
    "\n"
   ]
  },
  {
   "cell_type": "code",
   "execution_count": 93,
   "id": "9577498d-1b1e-4211-91da-e03e9627de87",
   "metadata": {},
   "outputs": [],
   "source": [
    "torch.set_default_dtype(torch.double)\n",
    "torch.set_default_tensor_type(torch.DoubleTensor)"
   ]
  },
  {
   "cell_type": "code",
   "execution_count": 99,
   "id": "62f2cbb1-5dc5-4360-982a-fe45c3387282",
   "metadata": {},
   "outputs": [
    {
     "data": {
      "text/plain": [
       "tensor([[ 1.0000, 26.5600,  0.7000, 19.7600,  0.9800,  1.0000],\n",
       "        [ 1.0000, 27.3100,  0.7100, 20.7800,  1.0400,  2.0000],\n",
       "        [ 1.0000, 32.9500,  0.7200, 22.5500,  1.0500,  3.0000],\n",
       "        [ 1.0000, 33.9000,  0.7000, 23.0600,  0.9700,  4.0000],\n",
       "        [ 1.0000, 42.7000,  0.7400, 24.9300,  1.0200,  5.0000],\n",
       "        [ 1.0000, 46.1100,  0.7400, 26.5000,  1.0400,  6.0000],\n",
       "        [ 1.0000, 31.7000,  0.7400, 27.2400,  0.9800,  7.0000],\n",
       "        [ 1.0000, 27.2300,  0.7200, 26.2100,  0.9800,  8.0000],\n",
       "        [ 1.0000, 32.8900,  0.7500, 26.0900,  1.0300,  9.0000],\n",
       "        [ 1.0000, 33.7800,  0.7700, 27.4000,  1.0300, 10.0000],\n",
       "        [ 1.0000, 31.6600,  0.7600, 26.9400,  0.9800, 11.0000],\n",
       "        [ 1.0000, 32.2800,  0.7900, 25.1800,  1.0000, 12.0000],\n",
       "        [ 1.0000, 32.3800,  0.8300, 23.9400,  0.9700, 13.0000],\n",
       "        [ 1.0000, 33.7500,  0.8500, 25.0700,  1.0300, 14.0000],\n",
       "        [ 1.0000, 36.2500,  0.8900, 25.3700,  1.0800, 15.0000],\n",
       "        [ 1.0000, 36.2400,  0.9300, 24.5500,  1.0500, 16.0000],\n",
       "        [ 1.0000, 38.2300,  0.9500, 24.9800,  1.0300, 17.0000],\n",
       "        [ 1.0000, 40.8300,  0.9900, 24.9600,  1.0300, 18.0000],\n",
       "        [ 1.0000, 44.6200,  1.0000, 25.5200,  0.9900, 19.0000],\n",
       "        [ 1.0000, 52.2700,  1.0000, 26.0100,  1.0000, 20.0000],\n",
       "        [ 1.0000, 45.1600,  1.0200, 25.4600,  0.9600, 21.0000],\n",
       "        [ 1.0000, 42.5000,  1.0700, 22.1700,  0.9700, 22.0000],\n",
       "        [ 1.0000, 43.7000,  1.1200, 18.5600,  0.9800, 23.0000],\n",
       "        [ 1.0000, 47.8800,  1.1000, 21.3200,  1.0100, 24.0000],\n",
       "        [ 1.0000, 36.3300,  1.0700, 22.7500,  0.9400, 25.0000]])"
      ]
     },
     "execution_count": 99,
     "metadata": {},
     "output_type": "execute_result"
    }
   ],
   "source": [
    "torch.from_numpy(X.to_numpy())"
   ]
  },
  {
   "cell_type": "code",
   "execution_count": 102,
   "id": "5bfa0fb8-b10c-4ce8-8601-5689edca7046",
   "metadata": {},
   "outputs": [],
   "source": [
    "X_torch = torch.from_numpy(X.to_numpy())[:, 1:] #.unsqueeze(-1)\n",
    "y_torch = torch.from_numpy(y.to_numpy()).squeeze()"
   ]
  },
  {
   "cell_type": "code",
   "execution_count": 104,
   "id": "1147323c-3c54-4f8a-abb9-d914ff741c4f",
   "metadata": {},
   "outputs": [
    {
     "data": {
      "text/plain": [
       "torch.Size([25, 5])"
      ]
     },
     "execution_count": 104,
     "metadata": {},
     "output_type": "execute_result"
    }
   ],
   "source": [
    "X_torch.shape"
   ]
  },
  {
   "cell_type": "code",
   "execution_count": 105,
   "id": "2ca48d7c-ca24-4290-bbe7-2148f576f27e",
   "metadata": {},
   "outputs": [],
   "source": [
    "n_test = int(.1 * len(X_torch))\n",
    "X_test, X_train = X_torch[-n_test:], X_torch[:-n_test]\n",
    "y_test, y_train = y_torch[-n_test:], y_torch[:-n_test]"
   ]
  },
  {
   "cell_type": "code",
   "execution_count": 118,
   "id": "92ba1bc1-bb60-4160-a9c5-51debe053c90",
   "metadata": {},
   "outputs": [
    {
     "data": {
      "text/plain": [
       "tensor([0.6894, 0.0135, 0.2366, 0.0034, 0.6845])"
      ]
     },
     "execution_count": 118,
     "metadata": {},
     "output_type": "execute_result"
    }
   ],
   "source": [
    "# normalize inputs\n",
    "mu = X_train.mean(dim=0)\n",
    "std = torch.norm(X_train - mu, dim=0)\n",
    "# mu\n",
    "std"
   ]
  },
  {
   "cell_type": "code",
   "execution_count": 120,
   "id": "bdd47364-2877-498a-8e14-e7823270f85e",
   "metadata": {},
   "outputs": [
    {
     "data": {
      "text/plain": [
       "torch.Size([23, 5])"
      ]
     },
     "execution_count": 120,
     "metadata": {},
     "output_type": "execute_result"
    }
   ],
   "source": [
    "(X_train - mu).shape"
   ]
  },
  {
   "cell_type": "code",
   "execution_count": 121,
   "id": "34cd6bab-7698-42f6-a662-5b0070d70f10",
   "metadata": {},
   "outputs": [],
   "source": [
    "X_train = (X_train - mu) / std\n",
    "X_test = (X_test - mu) / std\n",
    "X_torch = (X_torch - mu) / std"
   ]
  },
  {
   "cell_type": "code",
   "execution_count": 122,
   "id": "b55f3930-62bb-4616-99de-25c8849d3a7c",
   "metadata": {},
   "outputs": [],
   "source": [
    "def save_for_plot(model):\n",
    "    alpha = model.alpha\n",
    "    model.eval()\n",
    "    \n",
    "    t = torch.linspace(X_torch.min(), X_torch.max() + .1, 100).unsqueeze(-1)\n",
    "    with torch.no_grad():\n",
    "    \n",
    "        y_pred, sigma_sq = model(t)\n",
    "        std_pred = sigma_sq.sqrt()\n",
    "    \n",
    "    t = t.squeeze().numpy()\n",
    "    y_pred = y_pred.squeeze().numpy()\n",
    "    std_pred = std_pred.squeeze().numpy()\n",
    "\n",
    "    if alpha == 1:\n",
    "        # 95% confidence interval.\n",
    "        a = 2*std_pred\n",
    "    else:\n",
    "        # 100% confidence interval.\n",
    "        R = _radius(1, alpha)\n",
    "        tau = (-R**2)/2 * (std_pred**2) ** (-(alpha-1) / (alpha+1))\n",
    "        a = np.sqrt(-2 * tau * std_pred**2)\n",
    "        \n",
    "    return t, y_pred, a\n",
    "    \n",
    "\n",
    "def plot_model(t, y_pred, a, ax, which=\"support\", fill_color='C0'):\n",
    "    ax.plot(t, y_pred, color='C0', label=\"predicted mean\")\n",
    "\n",
    "    ax.fill_between(t,\n",
    "                    y_pred - a,\n",
    "                    y_pred + a,\n",
    "                    alpha=0.2, color=fill_color, label=\"predicted {}\".format(which))\n",
    "       \n",
    "    # Plot the truth\n",
    "    ax.scatter(X_train.squeeze().numpy(), y_train.squeeze().numpy(), marker='.', color='C1', label='train')\n",
    "    ax.scatter(X_test.squeeze().numpy(), y_test.squeeze().numpy(), marker='x', color='C2', label='test')\n",
    "\n",
    "    # ax.set_ylim(-10, 370)\n",
    "    ax.set_xlim(None, t[-1])"
   ]
  },
  {
   "cell_type": "code",
   "execution_count": 124,
   "id": "d3b8bb74-2a4f-4a8a-849d-e565c0c09bc5",
   "metadata": {},
   "outputs": [
    {
     "name": "stdout",
     "output_type": "stream",
     "text": [
      "R2 train 0.989 test -191.103\n",
      "w tensor([[  371.8328,  -182.9666, -1060.5539,   194.4373,  7394.0262]]) b tensor([5242.5391])\n"
     ]
    }
   ],
   "source": [
    "# baseline\n",
    "\n",
    "torch.manual_seed(42)\n",
    "bl_model = BetaGaussianLM(input_size=5, uncertainty=False, heteroscedastic=False, alpha=None)\n",
    "optimizer = torch.optim.LBFGS(bl_model.parameters(), lr=.01, max_iter=100)\n",
    "\n",
    "n_epochs = 1000\n",
    "\n",
    "for epoch in range(n_epochs):\n",
    "    # Forward pass\n",
    "    \n",
    "    def closure():\n",
    "        optimizer.zero_grad()\n",
    "        bl_model.train()\n",
    "        loss = bl_model.loss(X_train, y_train)\n",
    "        loss.backward()\n",
    "        return loss\n",
    "\n",
    "    optimizer.step(closure)\n",
    "\n",
    "# evaluate R^2\n",
    "y_pred_train = bl_model.predict(X_train).detach().numpy()\n",
    "y_pred_test = bl_model.predict(X_test).detach().numpy()\n",
    "print(\"R2 train {:.3f} test {:.3f}\".format(\n",
    "    r2_score(y_pred_train, y_train.numpy()),\n",
    "    r2_score(y_pred_test, y_test.numpy())))\n",
    "    \n",
    "print(\"w\", bl_model.pred_y.weight.data, \"b\", bl_model.pred_y.bias.data)"
   ]
  },
  {
   "cell_type": "code",
   "execution_count": 126,
   "id": "007156e1-019d-4644-865f-b616eb0ad871",
   "metadata": {},
   "outputs": [],
   "source": [
    "# try lbfgs\n",
    "\n",
    "old_loss = np.inf\n",
    "\n",
    "n_epochs = 1000\n",
    "\n",
    "results = []\n",
    "\n",
    "for j, alpha in enumerate([1, 4/3, 1.5, 2]):\n",
    "    torch.manual_seed(42)\n",
    "    model = BetaGaussianLM(input_size=5, uncertainty=True, heteroscedastic=False, alpha=alpha)\n",
    "    \n",
    "    model.pred_y.weight.data[:] = bl_model.pred_y.weight\n",
    "    model.pred_y.bias.data[:] = bl_model.pred_y.bias\n",
    "    optimizer = torch.optim.LBFGS(model.parameters(), lr=.01, line_search_fn='strong_wolfe', max_iter=100)\n",
    "    \n",
    "    for epoch in range(n_epochs):\n",
    "        \n",
    "        def closure():\n",
    "            optimizer.zero_grad()\n",
    "            model.train()\n",
    "            loss = model.loss(X_train, y_train)\n",
    "            loss.backward()\n",
    "            return loss\n",
    "        \n",
    "        optimizer.step(closure)\n",
    "            \n",
    "    # evaluate R^2\n",
    "    model.eval()\n",
    "    y_pred_train = model.predict(X_train).detach().numpy()\n",
    "    y_pred_test = model.predict(X_test).detach().numpy()\n",
    "\n",
    "    r2 = \"R2 train {:.3f} test {:.3f}\".format(\n",
    "        r2_score(y_pred_train, y_train.numpy()),\n",
    "        r2_score(y_pred_test, y_test.numpy()))\n",
    "    \n",
    "    results.append((alpha,  r2)) #save_for_plot(model),"
   ]
  },
  {
   "cell_type": "code",
   "execution_count": 127,
   "id": "7798aa7a-b439-4917-8917-1ae88a739c52",
   "metadata": {
    "scrolled": true
   },
   "outputs": [
    {
     "data": {
      "text/plain": [
       "[(1, 'R2 train 0.989 test -191.103'),\n",
       " (1.3333333333333333, 'R2 train 0.989 test -191.103'),\n",
       " (1.5, 'R2 train 0.989 test -191.080'),\n",
       " (2, 'R2 train 0.989 test -187.829')]"
      ]
     },
     "execution_count": 127,
     "metadata": {},
     "output_type": "execute_result"
    }
   ],
   "source": [
    "# [1] t, y_pred, a\n",
    "results\n"
   ]
  },
  {
   "cell_type": "code",
   "execution_count": 64,
   "id": "af9fe6f8-1b5d-4860-8778-5f0dcb93c8ed",
   "metadata": {},
   "outputs": [
    {
     "data": {
      "text/plain": [
       "Text(0.5, 0, 'Standardized county population')"
      ]
     },
     "execution_count": 64,
     "metadata": {},
     "output_type": "execute_result"
    },
    {
     "data": {
      "image/png": "[encoded data removed]",
      "text/plain": [
       "<Figure size 1300x400 with 2 Axes>"
      ]
     },
     "metadata": {},
     "output_type": "display_data"
    }
   ],
   "source": [
    "fig, (ax_gauss, ax_tp) = plt.subplots(1, 2, figsize=(13, 4), constrained_layout=True)\n",
    "\n",
    "plt.rcParams['legend.title_fontsize'] = 15\n",
    "plt.rcParams['legend.fancybox'] = False\n",
    "plt.rcParams['legend.frameon'] = False\n",
    "plt.rcParams['xtick.labelsize'] = 14\n",
    "plt.rcParams['ytick.labelsize'] = 14\n",
    "\n",
    "plot_model(*results[0][1], ax_gauss, \"95% CI\", fill_color='C0')\n",
    "plot_model(*results[3][1], ax_tp, \"support\", fill_color='C8')\n",
    "ax_gauss.legend(title=\"Gaussian ($\\\\alpha=1$)\\n$r^2=$\", fontsize=15)\n",
    "ax_tp.legend(title=\"Truncated Parabola ($\\\\alpha=2$)\\n$r^2=$\", fontsize=15)\n",
    "ax_gauss.set_ylabel(\"Mortality rate\", fontsize=15)\n",
    "ax_gauss.set_xlabel(\"Standardized county population\", fontsize=15)\n",
    "ax_tp.set_xlabel(\"Standardized county population\", fontsize=15)\n",
    "# plt.savefig(\"heteroscedastic.pdf\")"
   ]
  },
  {
   "cell_type": "code",
   "execution_count": 58,
   "id": "a2adcd18-bb3b-439b-afbe-538fe847367c",
   "metadata": {},
   "outputs": [
    {
     "data": {
      "text/plain": [
       "(-0.31789907296883596, 0.3756311814416363)"
      ]
     },
     "execution_count": 58,
     "metadata": {},
     "output_type": "execute_result"
    },
    {
     "data": {
      "image/png": "[encoded data removed]",
      "text/plain": [
       "<Figure size 1300x400 with 1 Axes>"
      ]
     },
     "metadata": {},
     "output_type": "display_data"
    }
   ],
   "source": [
    "fig, ax_tp = plt.subplots(1, 1, figsize=(13, 4), constrained_layout=True)\n",
    "\n",
    "# ax.plot(t, y_pred, color='C0', label=\"predicted mean\")\n",
    "\n",
    "# ax.fill_between(t,\n",
    "#                     y_pred - a,\n",
    "#                     y_pred + a,\n",
    "#                     alpha=0.2, color='C0', label=\"predicted {}\".format(\"support\"))\n",
    "       \n",
    "# Plot the truth\n",
    "ax_tp.scatter(X_train.squeeze().numpy(), y_train.squeeze().numpy(), marker='.', color='C1', label='train')\n",
    "ax_tp.scatter(X_test.squeeze().numpy(), y_test.squeeze().numpy(), marker='x', color='C2', label='test')\n",
    "\n",
    "# ax_tp.set_ylim(-10, 370)\n",
    "ax_tp.set_xlim(None, results[0][1][0][-1])"
   ]
  },
  {
   "cell_type": "code",
   "execution_count": null,
   "id": "d2801aa1-5aab-4ceb-ac42-0d106653a5c8",
   "metadata": {},
   "outputs": [],
   "source": []
  }
 ],
 "metadata": {
  "kernelspec": {
   "display_name": "Python 3 (ipykernel)",
   "language": "python",
   "name": "python3"
  },
  "language_info": {
   "codemirror_mode": {
    "name": "ipython",
    "version": 3
   },
   "file_extension": ".py",
   "mimetype": "text/x-python",
   "name": "python",
   "nbconvert_exporter": "python",
   "pygments_lexer": "ipython3",
   "version": "3.10.14"
  }
 },
 "nbformat": 4,
 "nbformat_minor": 5
}
